{
 "cells": [
  {
   "cell_type": "code",
   "execution_count": 3,
   "id": "a8a6d9f3",
   "metadata": {
    "scrolled": true
   },
   "outputs": [],
   "source": [
    "import pandas as pd"
   ]
  },
  {
   "cell_type": "code",
   "execution_count": 10,
   "id": "a50c9e2e",
   "metadata": {
    "scrolled": true
   },
   "outputs": [
    {
     "name": "stderr",
     "output_type": "stream",
     "text": [
      "C:\\Users\\matth\\AppData\\Local\\Temp\\ipykernel_2896\\78318975.py:2: DtypeWarning: Columns (27,43) have mixed types. Specify dtype option on import or set low_memory=False.\n",
      "  final_dataset = pd.read_csv(r\"C:\\Users\\matth\\0_BDMP\\Datasets\\2_Merged_Datasets\\1_crash_merged.csv\")\n"
     ]
    },
    {
     "data": {
      "text/plain": [
       "(3400440, 71)"
      ]
     },
     "execution_count": 10,
     "metadata": {},
     "output_type": "execute_result"
    }
   ],
   "source": [
    "# Load the final dataset\n",
    "final_dataset = pd.read_csv(r\"C:\\Users\\matth\\0_BDMP\\Datasets\\2_Merged_Datasets\\1_crash_merged.csv\")\n",
    "final_dataset.shape"
   ]
  },
  {
   "cell_type": "code",
   "execution_count": 11,
   "id": "1c922ede",
   "metadata": {},
   "outputs": [
    {
     "data": {
      "text/plain": [
       "(161, 7)"
      ]
     },
     "execution_count": 11,
     "metadata": {},
     "output_type": "execute_result"
    }
   ],
   "source": [
    "# Load the cleaned_speed_camera dataset\n",
    "cleaned_speed_camera = pd.read_csv(r\"C:\\Users\\matth\\0_BDMP\\Datasets\\3_Cleaned_Datasets\\camera_cleaned.csv\")\n",
    "cleaned_speed_camera.shape"
   ]
  },
  {
   "cell_type": "code",
   "execution_count": 12,
   "id": "c1242d31",
   "metadata": {},
   "outputs": [
    {
     "data": {
      "text/plain": [
       "(87714, 78)"
      ]
     },
     "execution_count": 12,
     "metadata": {},
     "output_type": "execute_result"
    }
   ],
   "source": [
    "# Merge the datasets based on address and street_no\n",
    "merged_dataset = pd.merge(final_dataset, cleaned_speed_camera, left_on='STREET_NO', right_on='ADDRESS')\n",
    "merged_dataset.shape"
   ]
  },
  {
   "cell_type": "code",
   "execution_count": 13,
   "id": "a8d1d50e",
   "metadata": {},
   "outputs": [
    {
     "name": "stdout",
     "output_type": "stream",
     "text": [
      "                                     CRASH_RECORD_ID   RD_NO_x  \\\n",
      "0  79c7a2ce89f446262efd86df3d72d18b04ba487024b7c4...  JC199149   \n",
      "1  79c7a2ce89f446262efd86df3d72d18b04ba487024b7c4...  JC199149   \n",
      "2  79c7a2ce89f446262efd86df3d72d18b04ba487024b7c4...  JC199149   \n",
      "3  79c7a2ce89f446262efd86df3d72d18b04ba487024b7c4...  JC199149   \n",
      "4  79c7a2ce89f446262efd86df3d72d18b04ba487024b7c4...  JC199149   \n",
      "\n",
      "             CRASH_DATE_x  POSTED_SPEED_LIMIT TRAFFIC_CONTROL_DEVICE  \\\n",
      "0  03/25/2019 02:43:00 PM                  30         TRAFFIC SIGNAL   \n",
      "1  03/25/2019 02:43:00 PM                  30         TRAFFIC SIGNAL   \n",
      "2  03/25/2019 02:43:00 PM                  30         TRAFFIC SIGNAL   \n",
      "3  03/25/2019 02:43:00 PM                  30         TRAFFIC SIGNAL   \n",
      "4  03/25/2019 02:43:00 PM                  30         TRAFFIC SIGNAL   \n",
      "\n",
      "       DEVICE_CONDITION WEATHER_CONDITION LIGHTING_CONDITION FIRST_CRASH_TYPE  \\\n",
      "0  FUNCTIONING PROPERLY             CLEAR           DAYLIGHT          TURNING   \n",
      "1  FUNCTIONING PROPERLY             CLEAR           DAYLIGHT          TURNING   \n",
      "2  FUNCTIONING PROPERLY             CLEAR           DAYLIGHT          TURNING   \n",
      "3  FUNCTIONING PROPERLY             CLEAR           DAYLIGHT          TURNING   \n",
      "4  FUNCTIONING PROPERLY             CLEAR           DAYLIGHT          TURNING   \n",
      "\n",
      "  TRAFFICWAY_TYPE  ...  TOWED_I OCCUPANT_CNT FIRST_CONTACT_POINT ADDRESS  \\\n",
      "0         ONE-WAY  ...        Y          2.0          FRONT-LEFT   536.0   \n",
      "1         ONE-WAY  ...      NaN          1.0         FRONT-RIGHT   536.0   \n",
      "2         ONE-WAY  ...        Y          2.0          FRONT-LEFT   536.0   \n",
      "3         ONE-WAY  ...      NaN          1.0         FRONT-RIGHT   536.0   \n",
      "4         ONE-WAY  ...        Y          2.0          FRONT-LEFT   536.0   \n",
      "\n",
      "  FIRST APPROACH SECOND APPROACH GO-LIVE DATE speed_camera_latitude  \\\n",
      "0             EB              WB   12/06/2013             41.793493   \n",
      "1             EB              WB   12/06/2013             41.793493   \n",
      "2             EB              WB   12/06/2013             41.793493   \n",
      "3             EB              WB   12/06/2013             41.793493   \n",
      "4             EB              WB   12/06/2013             41.793493   \n",
      "\n",
      "  speed_camera_longitude                    speed_camera_location  \n",
      "0             -87.611876  (41.793492645896656, -87.6118759701359)  \n",
      "1             -87.611876  (41.793492645896656, -87.6118759701359)  \n",
      "2             -87.611876  (41.793492645896656, -87.6118759701359)  \n",
      "3             -87.611876  (41.793492645896656, -87.6118759701359)  \n",
      "4             -87.611876  (41.793492645896656, -87.6118759701359)  \n",
      "\n",
      "[5 rows x 78 columns]\n"
     ]
    }
   ],
   "source": [
    "# Print the merged dataset\n",
    "print(merged_dataset.head())"
   ]
  },
  {
   "cell_type": "code",
   "execution_count": 14,
   "id": "950fde69",
   "metadata": {},
   "outputs": [],
   "source": [
    "merged_dataset.to_csv(r\"C:\\Users\\matth\\0_BDMP\\Datasets\\2_Merged_Datasets\\2_merged_final.csv\", index=False)"
   ]
  },
  {
   "cell_type": "code",
   "execution_count": null,
   "id": "3cb6e673",
   "metadata": {},
   "outputs": [],
   "source": []
  }
 ],
 "metadata": {
  "kernelspec": {
   "display_name": "Python 3 (ipykernel)",
   "language": "python",
   "name": "python3"
  },
  "language_info": {
   "codemirror_mode": {
    "name": "ipython",
    "version": 3
   },
   "file_extension": ".py",
   "mimetype": "text/x-python",
   "name": "python",
   "nbconvert_exporter": "python",
   "pygments_lexer": "ipython3",
   "version": "3.9.12"
  }
 },
 "nbformat": 4,
 "nbformat_minor": 5
}
