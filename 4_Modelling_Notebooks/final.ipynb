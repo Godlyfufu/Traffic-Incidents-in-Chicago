{
 "cells": [
  {
   "cell_type": "markdown",
   "id": "67a9cd25",
   "metadata": {},
   "source": [
    "# Libraries"
   ]
  },
  {
   "cell_type": "code",
   "execution_count": 12,
   "id": "9d716d28",
   "metadata": {},
   "outputs": [],
   "source": [
    "import pandas as pd\n",
    "import numpy as np\n",
    "import sklearn\n",
    "\n",
    "import matplotlib.pyplot as plt\n",
    "import seaborn as sns\n",
    "\n",
    "from sklearn.preprocessing import OrdinalEncoder\n",
    "from sklearn.preprocessing import OneHotEncoder\n",
    "from sklearn.preprocessing import StandardScaler\n",
    "from sklearn.preprocessing import MinMaxScaler\n",
    "from sklearn.compose import make_column_transformer\n",
    "\n",
    "from imblearn.over_sampling import *\n",
    "from imblearn.under_sampling import *\n",
    "\n",
    "from sklearn.utils import *\n",
    "from sklearn.model_selection import train_test_split\n"
   ]
  },
  {
   "cell_type": "markdown",
   "id": "cd3997be",
   "metadata": {},
   "source": [
    "# Importing the dataset "
   ]
  },
  {
   "cell_type": "code",
   "execution_count": 13,
   "id": "e5e6a9e3",
   "metadata": {},
   "outputs": [
    {
     "data": {
      "text/html": [
       "<div>\n",
       "<style scoped>\n",
       "    .dataframe tbody tr th:only-of-type {\n",
       "        vertical-align: middle;\n",
       "    }\n",
       "\n",
       "    .dataframe tbody tr th {\n",
       "        vertical-align: top;\n",
       "    }\n",
       "\n",
       "    .dataframe thead th {\n",
       "        text-align: right;\n",
       "    }\n",
       "</style>\n",
       "<table border=\"1\" class=\"dataframe\">\n",
       "  <thead>\n",
       "    <tr style=\"text-align: right;\">\n",
       "      <th></th>\n",
       "      <th>POSTED_SPEED_LIMIT</th>\n",
       "      <th>TRAFFIC_CONTROL_DEVICE</th>\n",
       "      <th>DEVICE_CONDITION</th>\n",
       "      <th>WEATHER_CONDITION</th>\n",
       "      <th>LIGHTING_CONDITION</th>\n",
       "      <th>FIRST_CRASH_TYPE</th>\n",
       "      <th>TRAFFICWAY_TYPE</th>\n",
       "      <th>ROADWAY_SURFACE_COND</th>\n",
       "      <th>ROAD_DEFECT</th>\n",
       "      <th>DAMAGE</th>\n",
       "      <th>...</th>\n",
       "      <th>SEX</th>\n",
       "      <th>AGE</th>\n",
       "      <th>DRIVER_VISION</th>\n",
       "      <th>UNIT_TYPE</th>\n",
       "      <th>VEHICLE_TYPE</th>\n",
       "      <th>CRASH_YEAR</th>\n",
       "      <th>CRASH_TIME</th>\n",
       "      <th>TIME_BINS</th>\n",
       "      <th>AGE_BINS</th>\n",
       "      <th>SPEED_BINS</th>\n",
       "    </tr>\n",
       "  </thead>\n",
       "  <tbody>\n",
       "    <tr>\n",
       "      <th>0</th>\n",
       "      <td>30</td>\n",
       "      <td>TRAFFIC SIGNAL</td>\n",
       "      <td>FUNCTIONING PROPERLY</td>\n",
       "      <td>CLEAR</td>\n",
       "      <td>DAYLIGHT</td>\n",
       "      <td>TURNING</td>\n",
       "      <td>ONE-WAY</td>\n",
       "      <td>DRY</td>\n",
       "      <td>NO DEFECTS</td>\n",
       "      <td>OVER $1,500</td>\n",
       "      <td>...</td>\n",
       "      <td>F</td>\n",
       "      <td>22.0</td>\n",
       "      <td>UNKNOWN</td>\n",
       "      <td>DRIVER</td>\n",
       "      <td>PASSENGER</td>\n",
       "      <td>2019</td>\n",
       "      <td>14:43:00</td>\n",
       "      <td>AFTERNOON</td>\n",
       "      <td>16-24</td>\n",
       "      <td>26-40</td>\n",
       "    </tr>\n",
       "    <tr>\n",
       "      <th>1</th>\n",
       "      <td>30</td>\n",
       "      <td>TRAFFIC SIGNAL</td>\n",
       "      <td>FUNCTIONING PROPERLY</td>\n",
       "      <td>CLEAR</td>\n",
       "      <td>DAYLIGHT</td>\n",
       "      <td>TURNING</td>\n",
       "      <td>ONE-WAY</td>\n",
       "      <td>DRY</td>\n",
       "      <td>NO DEFECTS</td>\n",
       "      <td>OVER $1,500</td>\n",
       "      <td>...</td>\n",
       "      <td>M</td>\n",
       "      <td>56.0</td>\n",
       "      <td>NOT OBSCURED</td>\n",
       "      <td>DRIVER</td>\n",
       "      <td>PASSENGER</td>\n",
       "      <td>2019</td>\n",
       "      <td>14:43:00</td>\n",
       "      <td>AFTERNOON</td>\n",
       "      <td>&gt; 55</td>\n",
       "      <td>26-40</td>\n",
       "    </tr>\n",
       "    <tr>\n",
       "      <th>2</th>\n",
       "      <td>30</td>\n",
       "      <td>NO CONTROLS</td>\n",
       "      <td>NO CONTROLS</td>\n",
       "      <td>CLEAR</td>\n",
       "      <td>DAYLIGHT</td>\n",
       "      <td>ANGLE</td>\n",
       "      <td>NOT DIVIDED</td>\n",
       "      <td>DRY</td>\n",
       "      <td>NO DEFECTS</td>\n",
       "      <td>OVER $1,500</td>\n",
       "      <td>...</td>\n",
       "      <td>F</td>\n",
       "      <td>39.0</td>\n",
       "      <td>OTHER</td>\n",
       "      <td>DRIVER</td>\n",
       "      <td>SPORT UTILITY VEHICLE (SUV)</td>\n",
       "      <td>2018</td>\n",
       "      <td>08:40:00</td>\n",
       "      <td>MORNING</td>\n",
       "      <td>36-55</td>\n",
       "      <td>26-40</td>\n",
       "    </tr>\n",
       "    <tr>\n",
       "      <th>3</th>\n",
       "      <td>30</td>\n",
       "      <td>NO CONTROLS</td>\n",
       "      <td>NO CONTROLS</td>\n",
       "      <td>CLEAR</td>\n",
       "      <td>DAYLIGHT</td>\n",
       "      <td>ANGLE</td>\n",
       "      <td>NOT DIVIDED</td>\n",
       "      <td>DRY</td>\n",
       "      <td>NO DEFECTS</td>\n",
       "      <td>OVER $1,500</td>\n",
       "      <td>...</td>\n",
       "      <td>F</td>\n",
       "      <td>39.0</td>\n",
       "      <td>OTHER</td>\n",
       "      <td>DRIVER</td>\n",
       "      <td>PASSENGER</td>\n",
       "      <td>2018</td>\n",
       "      <td>08:40:00</td>\n",
       "      <td>MORNING</td>\n",
       "      <td>36-55</td>\n",
       "      <td>26-40</td>\n",
       "    </tr>\n",
       "    <tr>\n",
       "      <th>4</th>\n",
       "      <td>30</td>\n",
       "      <td>NO CONTROLS</td>\n",
       "      <td>NO CONTROLS</td>\n",
       "      <td>CLEAR</td>\n",
       "      <td>DAYLIGHT</td>\n",
       "      <td>ANGLE</td>\n",
       "      <td>NOT DIVIDED</td>\n",
       "      <td>DRY</td>\n",
       "      <td>NO DEFECTS</td>\n",
       "      <td>OVER $1,500</td>\n",
       "      <td>...</td>\n",
       "      <td>M</td>\n",
       "      <td>32.0</td>\n",
       "      <td>NOT OBSCURED</td>\n",
       "      <td>DRIVER</td>\n",
       "      <td>SPORT UTILITY VEHICLE (SUV)</td>\n",
       "      <td>2018</td>\n",
       "      <td>08:40:00</td>\n",
       "      <td>MORNING</td>\n",
       "      <td>25-35</td>\n",
       "      <td>26-40</td>\n",
       "    </tr>\n",
       "  </tbody>\n",
       "</table>\n",
       "<p>5 rows × 26 columns</p>\n",
       "</div>"
      ],
      "text/plain": [
       "   POSTED_SPEED_LIMIT TRAFFIC_CONTROL_DEVICE      DEVICE_CONDITION  \\\n",
       "0                  30         TRAFFIC SIGNAL  FUNCTIONING PROPERLY   \n",
       "1                  30         TRAFFIC SIGNAL  FUNCTIONING PROPERLY   \n",
       "2                  30            NO CONTROLS           NO CONTROLS   \n",
       "3                  30            NO CONTROLS           NO CONTROLS   \n",
       "4                  30            NO CONTROLS           NO CONTROLS   \n",
       "\n",
       "  WEATHER_CONDITION LIGHTING_CONDITION FIRST_CRASH_TYPE TRAFFICWAY_TYPE  \\\n",
       "0             CLEAR           DAYLIGHT          TURNING         ONE-WAY   \n",
       "1             CLEAR           DAYLIGHT          TURNING         ONE-WAY   \n",
       "2             CLEAR           DAYLIGHT            ANGLE     NOT DIVIDED   \n",
       "3             CLEAR           DAYLIGHT            ANGLE     NOT DIVIDED   \n",
       "4             CLEAR           DAYLIGHT            ANGLE     NOT DIVIDED   \n",
       "\n",
       "  ROADWAY_SURFACE_COND ROAD_DEFECT       DAMAGE  ...  SEX   AGE  \\\n",
       "0                  DRY  NO DEFECTS  OVER $1,500  ...    F  22.0   \n",
       "1                  DRY  NO DEFECTS  OVER $1,500  ...    M  56.0   \n",
       "2                  DRY  NO DEFECTS  OVER $1,500  ...    F  39.0   \n",
       "3                  DRY  NO DEFECTS  OVER $1,500  ...    F  39.0   \n",
       "4                  DRY  NO DEFECTS  OVER $1,500  ...    M  32.0   \n",
       "\n",
       "   DRIVER_VISION  UNIT_TYPE                 VEHICLE_TYPE  CRASH_YEAR  \\\n",
       "0        UNKNOWN     DRIVER                    PASSENGER        2019   \n",
       "1   NOT OBSCURED     DRIVER                    PASSENGER        2019   \n",
       "2          OTHER     DRIVER  SPORT UTILITY VEHICLE (SUV)        2018   \n",
       "3          OTHER     DRIVER                    PASSENGER        2018   \n",
       "4   NOT OBSCURED     DRIVER  SPORT UTILITY VEHICLE (SUV)        2018   \n",
       "\n",
       "  CRASH_TIME  TIME_BINS AGE_BINS SPEED_BINS  \n",
       "0   14:43:00  AFTERNOON    16-24      26-40  \n",
       "1   14:43:00  AFTERNOON     > 55      26-40  \n",
       "2   08:40:00    MORNING    36-55      26-40  \n",
       "3   08:40:00    MORNING    36-55      26-40  \n",
       "4   08:40:00    MORNING    25-35      26-40  \n",
       "\n",
       "[5 rows x 26 columns]"
      ]
     },
     "execution_count": 13,
     "metadata": {},
     "output_type": "execute_result"
    }
   ],
   "source": [
    "df = pd.read_csv(r\"C:\\Users\\matth\\0_BDMP\\Datasets\\3_Cleaned_Datasets\\finalised_cleaned_dataset.csv\")\n",
    "df.head()"
   ]
  },
  {
   "cell_type": "code",
   "execution_count": 14,
   "id": "98781a54",
   "metadata": {},
   "outputs": [
    {
     "name": "stdout",
     "output_type": "stream",
     "text": [
      "<class 'pandas.core.frame.DataFrame'>\n",
      "RangeIndex: 1399212 entries, 0 to 1399211\n",
      "Data columns (total 26 columns):\n",
      " #   Column                  Non-Null Count    Dtype  \n",
      "---  ------                  --------------    -----  \n",
      " 0   POSTED_SPEED_LIMIT      1399212 non-null  int64  \n",
      " 1   TRAFFIC_CONTROL_DEVICE  1399212 non-null  object \n",
      " 2   DEVICE_CONDITION        1399212 non-null  object \n",
      " 3   WEATHER_CONDITION       1399212 non-null  object \n",
      " 4   LIGHTING_CONDITION      1399212 non-null  object \n",
      " 5   FIRST_CRASH_TYPE        1399212 non-null  object \n",
      " 6   TRAFFICWAY_TYPE         1399212 non-null  object \n",
      " 7   ROADWAY_SURFACE_COND    1399212 non-null  object \n",
      " 8   ROAD_DEFECT             1399212 non-null  object \n",
      " 9   DAMAGE                  1399212 non-null  object \n",
      " 10  MOST_SEVERE_INJURY      1399212 non-null  int64  \n",
      " 11  INJURIES_TOTAL          1399212 non-null  float64\n",
      " 12  CRASH_HOUR              1399212 non-null  int64  \n",
      " 13  CRASH_DAY_OF_WEEK       1399212 non-null  int64  \n",
      " 14  LATITUDE                1399212 non-null  float64\n",
      " 15  LONGITUDE               1399212 non-null  float64\n",
      " 16  SEX                     1399212 non-null  object \n",
      " 17  AGE                     1399212 non-null  float64\n",
      " 18  DRIVER_VISION           1399212 non-null  object \n",
      " 19  UNIT_TYPE               1399212 non-null  object \n",
      " 20  VEHICLE_TYPE            1399212 non-null  object \n",
      " 21  CRASH_YEAR              1399212 non-null  int64  \n",
      " 22  CRASH_TIME              1399212 non-null  object \n",
      " 23  TIME_BINS               1376600 non-null  object \n",
      " 24  AGE_BINS                1386337 non-null  object \n",
      " 25  SPEED_BINS              1386891 non-null  object \n",
      "dtypes: float64(4), int64(5), object(17)\n",
      "memory usage: 277.6+ MB\n"
     ]
    }
   ],
   "source": [
    "df.info()"
   ]
  },
  {
   "cell_type": "code",
   "execution_count": 15,
   "id": "29187eaa",
   "metadata": {},
   "outputs": [
    {
     "data": {
      "text/plain": [
       "(1399212, 18)"
      ]
     },
     "execution_count": 15,
     "metadata": {},
     "output_type": "execute_result"
    }
   ],
   "source": [
    "columns_to_remove = ['LATITUDE', 'LONGITUDE', 'CRASH_TIME', 'CRASH_YEAR', 'UNIT_TYPE', 'VEHICLE_TYPE', 'DEVICE_CONDITION', 'AGE']\n",
    "df = df.drop(columns=columns_to_remove)\n",
    "df.shape"
   ]
  },
  {
   "cell_type": "markdown",
   "id": "e220a6f0",
   "metadata": {},
   "source": [
    "## Revising the Target Variable Distribution"
   ]
  },
  {
   "cell_type": "code",
   "execution_count": 16,
   "id": "427c3488",
   "metadata": {},
   "outputs": [
    {
     "data": {
      "image/png": "[encoded data removed]",
      "text/plain": [
       "<Figure size 800x600 with 1 Axes>"
      ]
     },
     "metadata": {},
     "output_type": "display_data"
    }
   ],
   "source": [
    "import pandas as pd\n",
    "import seaborn as sns\n",
    "import matplotlib.pyplot as plt\n",
    "\n",
    "# Assuming your DataFrame is named df\n",
    "\n",
    "# Count the occurrences of each unique value in the 'MOST_SEVERE_INJURY' column\n",
    "severity_counts = df['MOST_SEVERE_INJURY'].value_counts()\n",
    "\n",
    "# Calculate the percentage of each unique value in the 'MOST_SEVERE_INJURY' column\n",
    "severity_percentage = df['MOST_SEVERE_INJURY'].value_counts(normalize=True) * 100\n",
    "\n",
    "# Combine the counts and percentages into a DataFrame for visualization\n",
    "severity_distribution = pd.DataFrame({\n",
    "    'Count': severity_counts,\n",
    "    'Percentage': severity_percentage\n",
    "})\n",
    "\n",
    "# Plot the bar plot\n",
    "plt.figure(figsize=(8, 6))\n",
    "ax = sns.barplot(x=severity_distribution.index, y='Count', data=severity_distribution)\n",
    "plt.xticks(rotation=45, ha='right')\n",
    "plt.xlabel('MOST_SEVERE_INJURY')\n",
    "plt.ylabel('Count')\n",
    "plt.title('Distribution of MOST_SEVERE_INJURY')\n",
    "\n",
    "# Adding data labels above each bar\n",
    "for index, value in enumerate(severity_distribution['Count']):\n",
    "    plt.text(index, value, str(value), ha='center', va='bottom', fontweight='bold')\n",
    "\n",
    "plt.tight_layout()\n",
    "plt.show()\n"
   ]
  },
  {
   "cell_type": "markdown",
   "id": "7e83dc4b",
   "metadata": {},
   "source": [
    "# Feature Engineering"
   ]
  },
  {
   "cell_type": "code",
   "execution_count": 17,
   "id": "0ad7d27e",
   "metadata": {
    "scrolled": true
   },
   "outputs": [
    {
     "data": {
      "text/plain": [
       "(1399212, 18)"
      ]
     },
     "execution_count": 17,
     "metadata": {},
     "output_type": "execute_result"
    }
   ],
   "source": [
    "df.shape"
   ]
  },
  {
   "cell_type": "code",
   "execution_count": 18,
   "id": "5d81d3d0",
   "metadata": {},
   "outputs": [
    {
     "name": "stdout",
     "output_type": "stream",
     "text": [
      "<class 'pandas.core.frame.DataFrame'>\n",
      "RangeIndex: 1399212 entries, 0 to 1399211\n",
      "Data columns (total 18 columns):\n",
      " #   Column                  Non-Null Count    Dtype  \n",
      "---  ------                  --------------    -----  \n",
      " 0   POSTED_SPEED_LIMIT      1399212 non-null  int64  \n",
      " 1   TRAFFIC_CONTROL_DEVICE  1399212 non-null  object \n",
      " 2   WEATHER_CONDITION       1399212 non-null  object \n",
      " 3   LIGHTING_CONDITION      1399212 non-null  object \n",
      " 4   FIRST_CRASH_TYPE        1399212 non-null  object \n",
      " 5   TRAFFICWAY_TYPE         1399212 non-null  object \n",
      " 6   ROADWAY_SURFACE_COND    1399212 non-null  object \n",
      " 7   ROAD_DEFECT             1399212 non-null  object \n",
      " 8   DAMAGE                  1399212 non-null  object \n",
      " 9   MOST_SEVERE_INJURY      1399212 non-null  int64  \n",
      " 10  INJURIES_TOTAL          1399212 non-null  float64\n",
      " 11  CRASH_HOUR              1399212 non-null  int64  \n",
      " 12  CRASH_DAY_OF_WEEK       1399212 non-null  int64  \n",
      " 13  SEX                     1399212 non-null  object \n",
      " 14  DRIVER_VISION           1399212 non-null  object \n",
      " 15  TIME_BINS               1376600 non-null  object \n",
      " 16  AGE_BINS                1386337 non-null  object \n",
      " 17  SPEED_BINS              1386891 non-null  object \n",
      "dtypes: float64(1), int64(4), object(13)\n",
      "memory usage: 192.2+ MB\n"
     ]
    }
   ],
   "source": [
    "df.info()"
   ]
  },
  {
   "cell_type": "code",
   "execution_count": 23,
   "id": "d6f79072",
   "metadata": {
    "scrolled": true
   },
   "outputs": [
    {
     "name": "stderr",
     "output_type": "stream",
     "text": [
      "C:\\Users\\matth\\anaconda3\\envs\\isolatedEnv\\Lib\\site-packages\\sklearn\\preprocessing\\_encoders.py:972: FutureWarning: `sparse` was renamed to `sparse_output` in version 1.2 and will be removed in 1.4. `sparse_output` is ignored unless you leave `sparse` to its default value.\n",
      "  warnings.warn(\n"
     ]
    },
    {
     "name": "stdout",
     "output_type": "stream",
     "text": [
      "   MOST_SEVERE_INJURY  TRAFFIC_CONTROL_DEVICE_DELINEATORS  \\\n",
      "0                   0                                 0.0   \n",
      "1                   0                                 0.0   \n",
      "2                   0                                 0.0   \n",
      "3                   0                                 0.0   \n",
      "4                   0                                 0.0   \n",
      "\n",
      "   TRAFFIC_CONTROL_DEVICE_FLASHING CONTROL SIGNAL  \\\n",
      "0                                             0.0   \n",
      "1                                             0.0   \n",
      "2                                             0.0   \n",
      "3                                             0.0   \n",
      "4                                             0.0   \n",
      "\n",
      "   TRAFFIC_CONTROL_DEVICE_LANE USE MARKING  \\\n",
      "0                                      0.0   \n",
      "1                                      0.0   \n",
      "2                                      0.0   \n",
      "3                                      0.0   \n",
      "4                                      0.0   \n",
      "\n",
      "   TRAFFIC_CONTROL_DEVICE_NO CONTROLS  TRAFFIC_CONTROL_DEVICE_NO PASSING  \\\n",
      "0                                 0.0                                0.0   \n",
      "1                                 0.0                                0.0   \n",
      "2                                 1.0                                0.0   \n",
      "3                                 1.0                                0.0   \n",
      "4                                 1.0                                0.0   \n",
      "\n",
      "   TRAFFIC_CONTROL_DEVICE_OTHER  \\\n",
      "0                           0.0   \n",
      "1                           0.0   \n",
      "2                           0.0   \n",
      "3                           0.0   \n",
      "4                           0.0   \n",
      "\n",
      "   TRAFFIC_CONTROL_DEVICE_OTHER RAILROAD CROSSING  \\\n",
      "0                                             0.0   \n",
      "1                                             0.0   \n",
      "2                                             0.0   \n",
      "3                                             0.0   \n",
      "4                                             0.0   \n",
      "\n",
      "   TRAFFIC_CONTROL_DEVICE_OTHER REG. SIGN  \\\n",
      "0                                     0.0   \n",
      "1                                     0.0   \n",
      "2                                     0.0   \n",
      "3                                     0.0   \n",
      "4                                     0.0   \n",
      "\n",
      "   TRAFFIC_CONTROL_DEVICE_OTHER WARNING SIGN  ...  AGE_BINS_> 55  \\\n",
      "0                                        0.0  ...            0.0   \n",
      "1                                        0.0  ...            1.0   \n",
      "2                                        0.0  ...            0.0   \n",
      "3                                        0.0  ...            0.0   \n",
      "4                                        0.0  ...            0.0   \n",
      "\n",
      "   AGE_BINS_nan  SPEED_BINS_16-25  SPEED_BINS_26-40  SPEED_BINS_> 41  \\\n",
      "0           0.0               0.0               1.0              0.0   \n",
      "1           0.0               0.0               1.0              0.0   \n",
      "2           0.0               0.0               1.0              0.0   \n",
      "3           0.0               0.0               1.0              0.0   \n",
      "4           0.0               0.0               1.0              0.0   \n",
      "\n",
      "   SPEED_BINS_nan  POSTED_SPEED_LIMIT  INJURIES_TOTAL  CRASH_HOUR  \\\n",
      "0             0.0            0.178975        1.111421    0.120520   \n",
      "1             0.0            0.178975        1.111421    0.120520   \n",
      "2             0.0            0.178975       -0.364496   -1.030485   \n",
      "3             0.0            0.178975       -0.364496   -1.030485   \n",
      "4             0.0            0.178975       -0.364496   -1.030485   \n",
      "\n",
      "   CRASH_DAY_OF_WEEK  \n",
      "0          -1.111815  \n",
      "1          -1.111815  \n",
      "2          -0.079341  \n",
      "3          -0.079341  \n",
      "4          -0.079341  \n",
      "\n",
      "[5 rows x 117 columns]\n"
     ]
    }
   ],
   "source": [
    "import pandas as pd\n",
    "from sklearn.preprocessing import OneHotEncoder, StandardScaler\n",
    "\n",
    "# Assume df is your DataFrame\n",
    "# Categorical columns for one-hot encoding\n",
    "categorical_columns = ['TRAFFIC_CONTROL_DEVICE', 'WEATHER_CONDITION', 'LIGHTING_CONDITION', \n",
    "                       'FIRST_CRASH_TYPE', 'TRAFFICWAY_TYPE', 'ROADWAY_SURFACE_COND', \n",
    "                       'ROAD_DEFECT', 'DAMAGE', 'SEX', 'DRIVER_VISION', 'TIME_BINS', 'AGE_BINS', 'SPEED_BINS']\n",
    "\n",
    "# Numerical columns for feature scaling\n",
    "numerical_columns = ['POSTED_SPEED_LIMIT', 'INJURIES_TOTAL', 'CRASH_HOUR', 'CRASH_DAY_OF_WEEK']\n",
    "\n",
    "# Apply one-hot encoding to categorical columns\n",
    "encoder = OneHotEncoder(drop='first', sparse=False)\n",
    "encoded_features = encoder.fit_transform(df[categorical_columns])\n",
    "encoded_df = pd.DataFrame(encoded_features, columns=encoder.get_feature_names_out(categorical_columns))\n",
    "\n",
    "# Apply feature scaling to numerical columns\n",
    "scaler = StandardScaler()\n",
    "scaled_features = scaler.fit_transform(df[numerical_columns])\n",
    "scaled_df = pd.DataFrame(scaled_features, columns=numerical_columns)\n",
    "\n",
    "# Combine the encoded features, scaled features, and other columns\n",
    "df = pd.concat([df.drop(categorical_columns + numerical_columns, axis=1), encoded_df, scaled_df], axis=1)\n",
    "\n",
    "# Print the updated DataFrame with feature-engineered columns\n",
    "print(df.head())\n"
   ]
  },
  {
   "cell_type": "markdown",
   "id": "9c6fbb6f",
   "metadata": {},
   "source": [
    "# Handling Imbalanced Target Variable Classes"
   ]
  },
  {
   "cell_type": "code",
   "execution_count": 24,
   "id": "651de138",
   "metadata": {},
   "outputs": [
    {
     "name": "stdout",
     "output_type": "stream",
     "text": [
      "MOST_SEVERE_INJURY\n",
      "0    1238739\n",
      "1    1238739\n",
      "2    1238739\n",
      "3    1238739\n",
      "Name: count, dtype: int64\n"
     ]
    }
   ],
   "source": [
    "import pandas as pd\n",
    "from imblearn.over_sampling import SMOTE\n",
    "\n",
    "# Assuming 'df' is your preprocessed DataFrame\n",
    "\n",
    "# Separate features and target variable\n",
    "X = df.drop('MOST_SEVERE_INJURY', axis=1)\n",
    "y = df['MOST_SEVERE_INJURY']\n",
    "\n",
    "# Initialize SMOTE\n",
    "smote = SMOTE(sampling_strategy='auto', random_state=42)\n",
    "\n",
    "# Apply SMOTE to balance classes\n",
    "X_resampled, y_resampled = smote.fit_resample(X, y)\n",
    "\n",
    "# Create a new balanced DataFrame\n",
    "balanced_df = pd.concat([X_resampled, y_resampled], axis=1)\n",
    "\n",
    "# Print class distribution to confirm balancing\n",
    "print(balanced_df['MOST_SEVERE_INJURY'].value_counts())\n",
    "\n",
    "# Now you can use 'balanced_df' for further modeling\n"
   ]
  },
  {
   "cell_type": "code",
   "execution_count": 25,
   "id": "391a18b7",
   "metadata": {},
   "outputs": [],
   "source": [
    "from sklearn.model_selection import train_test_split\n",
    "from sklearn.preprocessing import StandardScaler\n",
    "from sklearn.metrics import accuracy_score, classification_report\n",
    "\n",
    "# Assuming you have already balanced your dataset\n",
    "\n",
    "# Split the dataset into features (X) and target variable (y)\n",
    "X = balanced_df.drop('MOST_SEVERE_INJURY', axis=1)\n",
    "y = balanced_df ['MOST_SEVERE_INJURY']\n",
    "\n",
    "# Split the data into training and testing sets\n",
    "X_train, X_test, y_train, y_test = train_test_split(X, y, test_size=0.2, random_state=42)\n",
    "\n",
    "# Standardize the features\n",
    "scaler = StandardScaler()\n",
    "X_train_scaled = scaler.fit_transform(X_train)\n",
    "X_test_scaled = scaler.transform(X_test)"
   ]
  },
  {
   "cell_type": "code",
   "execution_count": 26,
   "id": "1ac91c67",
   "metadata": {},
   "outputs": [
    {
     "name": "stdout",
     "output_type": "stream",
     "text": [
      "116\n"
     ]
    }
   ],
   "source": [
    "# Display the features used in X_train\n",
    "print(len(X_train.columns))\n"
   ]
  },
  {
   "cell_type": "markdown",
   "id": "b814f3d6",
   "metadata": {},
   "source": [
    "_______________________________________________________________________________________________________________________________"
   ]
  },
  {
   "cell_type": "markdown",
   "id": "ac92ff1e",
   "metadata": {},
   "source": [
    "## Logistic Regression"
   ]
  },
  {
   "cell_type": "code",
   "execution_count": 12,
   "id": "0cd7e3aa",
   "metadata": {},
   "outputs": [
    {
     "name": "stdout",
     "output_type": "stream",
     "text": [
      "              precision    recall  f1-score   support\n",
      "\n",
      "           0       1.00      0.94      0.97    247600\n",
      "           1       0.49      0.59      0.53    247688\n",
      "           2       0.43      0.28      0.34    247691\n",
      "           3       0.60      0.71      0.65    248013\n",
      "\n",
      "    accuracy                           0.63    990992\n",
      "   macro avg       0.63      0.63      0.62    990992\n",
      "weighted avg       0.63      0.63      0.62    990992\n",
      "\n"
     ]
    }
   ],
   "source": [
    "from sklearn.linear_model import LogisticRegression\n",
    "\n",
    "# Create and train the logistic regression model\n",
    "logreg = LogisticRegression(max_iter=1000)\n",
    "logreg.fit(X_train_scaled, y_train)\n",
    "\n",
    "# Make predictions on the test data\n",
    "logreg_predictions = logreg.predict(X_test_scaled)\n",
    "\n",
    "# Calculate accuracy\n",
    "logreg_accuracy = accuracy_score(y_test, logreg_predictions)\n",
    "\n",
    "# Print classification report\n",
    "classification_rep = classification_report(y_test, logreg_predictions)\n",
    "print(classification_rep)"
   ]
  },
  {
   "cell_type": "code",
   "execution_count": 13,
   "id": "bf34a35c",
   "metadata": {},
   "outputs": [],
   "source": [
    "import pickle\n",
    "# Save the trained model to a file using pickle\n",
    "with open('LR.pkl', 'wb') as model_file:\n",
    "    pickle.dump(logreg, model_file)\n"
   ]
  },
  {
   "cell_type": "markdown",
   "id": "f306768f",
   "metadata": {},
   "source": [
    "_______________________________________________________________________________________________________________________________"
   ]
  },
  {
   "cell_type": "markdown",
   "id": "6e447d77",
   "metadata": {},
   "source": [
    "## Decision Tree"
   ]
  },
  {
   "cell_type": "code",
   "execution_count": 14,
   "id": "d998ef70",
   "metadata": {},
   "outputs": [
    {
     "name": "stdout",
     "output_type": "stream",
     "text": [
      "Decision Tree Accuracy: 0.9815457642443127\n",
      "              precision    recall  f1-score   support\n",
      "\n",
      "           0       0.99      0.98      0.98    247600\n",
      "           1       0.97      0.97      0.97    247688\n",
      "           2       0.98      0.98      0.98    247691\n",
      "           3       1.00      1.00      1.00    248013\n",
      "\n",
      "    accuracy                           0.98    990992\n",
      "   macro avg       0.98      0.98      0.98    990992\n",
      "weighted avg       0.98      0.98      0.98    990992\n",
      "\n"
     ]
    }
   ],
   "source": [
    "from sklearn.tree import DecisionTreeClassifier\n",
    "from sklearn.metrics import accuracy_score, classification_report\n",
    "\n",
    "# Create a DecisionTreeClassifier\n",
    "decision_tree = DecisionTreeClassifier(random_state=42)\n",
    "\n",
    "# Fit the model on the training data\n",
    "decision_tree.fit(X_train_scaled, y_train)\n",
    "\n",
    "# Make predictions on the test data\n",
    "dt_predictions = decision_tree.predict(X_test_scaled)\n",
    "\n",
    "# Calculate accuracy\n",
    "dt_accuracy = accuracy_score(y_test, dt_predictions)\n",
    "print(\"Decision Tree Accuracy:\", dt_accuracy)\n",
    "\n",
    "# Print classification report\n",
    "classification_rep = classification_report(y_test, dt_predictions)\n",
    "print(classification_rep)"
   ]
  },
  {
   "cell_type": "code",
   "execution_count": 15,
   "id": "a60f8368",
   "metadata": {},
   "outputs": [],
   "source": [
    "import pickle\n",
    "# Save the trained model to a file using pickle\n",
    "with open('DT.pkl', 'wb') as model_file:\n",
    "    pickle.dump(decision_tree, model_file)"
   ]
  },
  {
   "cell_type": "markdown",
   "id": "51533895",
   "metadata": {},
   "source": [
    "_______________________________________________________________________________________________________________________________"
   ]
  },
  {
   "cell_type": "markdown",
   "id": "7b4835ce",
   "metadata": {},
   "source": [
    "## Random Forest"
   ]
  },
  {
   "cell_type": "code",
   "execution_count": 34,
   "id": "76c185ee",
   "metadata": {},
   "outputs": [
    {
     "name": "stdout",
     "output_type": "stream",
     "text": [
      "Random Forest Accuracy: 0.9902632917319212\n",
      "              precision    recall  f1-score   support\n",
      "\n",
      "           0       1.00      0.98      0.99    247600\n",
      "           1       0.97      0.99      0.98    247688\n",
      "           2       0.99      0.99      0.99    247691\n",
      "           3       1.00      1.00      1.00    248013\n",
      "\n",
      "    accuracy                           0.99    990992\n",
      "   macro avg       0.99      0.99      0.99    990992\n",
      "weighted avg       0.99      0.99      0.99    990992\n",
      "\n"
     ]
    }
   ],
   "source": [
    "from sklearn.ensemble import RandomForestClassifier\n",
    "from sklearn.metrics import accuracy_score, classification_report\n",
    "\n",
    "# Create a RandomForestClassifier with a specified number of trees (n_estimators)\n",
    "random_forest_classifier = RandomForestClassifier(n_estimators=100)  # You can adjust the number of trees\n",
    "\n",
    "# Fit the model on the training data\n",
    "random_forest_classifier.fit(X_train_scaled, y_train)\n",
    "\n",
    "# Make predictions on the test data\n",
    "rf_predictions = random_forest_classifier.predict(X_test_scaled)\n",
    "\n",
    "# Calculate accuracy\n",
    "rf_accuracy = accuracy_score(y_test, rf_predictions)\n",
    "print(\"Random Forest Accuracy:\", rf_accuracy)\n",
    "\n",
    "# Print classification report\n",
    "classification_rep = classification_report(y_test, rf_predictions)\n",
    "print(classification_rep)\n"
   ]
  },
  {
   "cell_type": "code",
   "execution_count": 17,
   "id": "bc893132",
   "metadata": {},
   "outputs": [],
   "source": [
    "import pickle\n",
    "# Save the trained model to a file using pickle\n",
    "with open('RF.pkl', 'wb') as model_file:\n",
    "    pickle.dump(random_forest_classifier, model_file)"
   ]
  },
  {
   "cell_type": "markdown",
   "id": "0515f865",
   "metadata": {},
   "source": [
    "_______________________________________________________________________________________________________________________________"
   ]
  },
  {
   "cell_type": "markdown",
   "id": "03510e13",
   "metadata": {},
   "source": [
    "## Naive Bayes"
   ]
  },
  {
   "cell_type": "code",
   "execution_count": 40,
   "id": "f37b98f7",
   "metadata": {},
   "outputs": [
    {
     "name": "stdout",
     "output_type": "stream",
     "text": [
      "GNB Accuracy: 0.26985081615189627\n",
      "              precision    recall  f1-score   support\n",
      "\n",
      "           0       0.56      0.06      0.11    247600\n",
      "           1       0.43      0.01      0.02    247688\n",
      "           2       0.41      0.01      0.03    247691\n",
      "           3       0.26      0.99      0.41    248013\n",
      "\n",
      "    accuracy                           0.27    990992\n",
      "   macro avg       0.42      0.27      0.14    990992\n",
      "weighted avg       0.42      0.27      0.14    990992\n",
      "\n"
     ]
    }
   ],
   "source": [
    "from sklearn.naive_bayes import GaussianNB\n",
    "from sklearn.metrics import accuracy_score, classification_report\n",
    "\n",
    "# Create and train the Gaussian Naive Bayes model\n",
    "gnb = GaussianNB()\n",
    "gnb.fit(X_train_scaled, y_train)\n",
    "\n",
    "# Make predictions on the test data\n",
    "gnb_predictions = gnb.predict(X_test_scaled)\n",
    "\n",
    "# Calculate accuracy\n",
    "gnb_accuracy = accuracy_score(y_test, gnb_predictions)\n",
    "print(\"GNB Accuracy:\", gnb_accuracy)\n",
    "\n",
    "# Print classification report\n",
    "classification_rep = classification_report(y_test, gnb_predictions)\n",
    "print(classification_rep)\n"
   ]
  },
  {
   "cell_type": "code",
   "execution_count": 41,
   "id": "03637a6f",
   "metadata": {},
   "outputs": [],
   "source": [
    "import pickle\n",
    "# Save the trained model to a file using pickle\n",
    "with open('GNB.pkl', 'wb') as model_file:\n",
    "    pickle.dump(gnb, model_file)"
   ]
  },
  {
   "cell_type": "markdown",
   "id": "6f6f3f29",
   "metadata": {},
   "source": [
    "_______________________________________________________________________________________________________________________________"
   ]
  },
  {
   "cell_type": "markdown",
   "id": "54a3f07d",
   "metadata": {},
   "source": [
    "## Gradient Boosting"
   ]
  },
  {
   "cell_type": "code",
   "execution_count": 38,
   "id": "3d264921",
   "metadata": {},
   "outputs": [
    {
     "name": "stdout",
     "output_type": "stream",
     "text": [
      "[LightGBM] [Warning] Auto-choosing row-wise multi-threading, the overhead of testing was 0.440151 seconds.\n",
      "You can set `force_row_wise=true` to remove the overhead.\n",
      "And if memory is not enough, you can set `force_col_wise=true`.\n",
      "[LightGBM] [Info] Total Bins 20822\n",
      "[LightGBM] [Info] Number of data points in the train set: 3963964, number of used features: 116\n",
      "[LightGBM] [Info] Start training from score -1.386145\n",
      "[LightGBM] [Info] Start training from score -1.386234\n",
      "[LightGBM] [Info] Start training from score -1.386237\n",
      "[LightGBM] [Info] Start training from score -1.386562\n",
      "Accuracy: 0.7770839724235917\n"
     ]
    }
   ],
   "source": [
    "from lightgbm import LGBMClassifier\n",
    "from sklearn.model_selection import train_test_split\n",
    "from sklearn.metrics import accuracy_score\n",
    "\n",
    "# Initialize the LightGBM classifier\n",
    "lgbm = LGBMClassifier()\n",
    "\n",
    "# Fit the model on the training data\n",
    "lgbm.fit(X_train_scaled, y_train)\n",
    "\n",
    "# Make predictions on the test data\n",
    "lgbm_predictions = lgbm.predict(X_test_scaled)\n",
    "\n",
    "# Calculate accuracy\n",
    "lgbm_accuracy = accuracy_score(y_test, lgbm_predictions)\n",
    "\n",
    "# Print accuracy\n",
    "print(\"Accuracy:\", lgbm_accuracy)\n"
   ]
  },
  {
   "cell_type": "code",
   "execution_count": 39,
   "id": "c9105bd0",
   "metadata": {},
   "outputs": [],
   "source": [
    "import pickle\n",
    "# Save the trained model to a file using pickle\n",
    "with open('LGB.pkl', 'wb') as model_file:\n",
    "    pickle.dump(lgbm, model_file)"
   ]
  },
  {
   "cell_type": "markdown",
   "id": "c870ed52",
   "metadata": {},
   "source": [
    "_______________________________________________________________________________________________________________________________"
   ]
  },
  {
   "cell_type": "markdown",
   "id": "c01a964d",
   "metadata": {},
   "source": [
    "## XGBoost"
   ]
  },
  {
   "cell_type": "code",
   "execution_count": 20,
   "id": "e8f46bc5",
   "metadata": {},
   "outputs": [
    {
     "name": "stdout",
     "output_type": "stream",
     "text": [
      "XGBoost Accuracy: 0.6757239210810986\n",
      "              precision    recall  f1-score   support\n",
      "\n",
      "           0       1.00      0.94      0.97    247600\n",
      "           1       0.53      0.64      0.58    247688\n",
      "           2       0.50      0.31      0.38    247691\n",
      "           3       0.66      0.81      0.73    248013\n",
      "\n",
      "    accuracy                           0.68    990992\n",
      "   macro avg       0.67      0.68      0.66    990992\n",
      "weighted avg       0.67      0.68      0.66    990992\n",
      "\n"
     ]
    }
   ],
   "source": [
    "from xgboost import XGBClassifier\n",
    "from sklearn.metrics import accuracy_score, classification_report\n",
    "\n",
    "# Create an XGBClassifier with specified hyperparameters\n",
    "xgb_classifier = XGBClassifier(n_estimators=100, learning_rate=0.1, max_depth=3)  # You can adjust hyperparameters\n",
    "\n",
    "# Fit the model on the training data\n",
    "xgb_classifier.fit(X_train_scaled, y_train)\n",
    "\n",
    "# Make predictions on the test data\n",
    "xgb_predictions = xgb_classifier.predict(X_test_scaled)\n",
    "\n",
    "# Calculate accuracy\n",
    "xgb_accuracy = accuracy_score(y_test, xgb_predictions)\n",
    "print(\"XGBoost Accuracy:\", xgb_accuracy)\n",
    "\n",
    "# Print classification report\n",
    "classification_rep = classification_report(y_test, xgb_predictions)\n",
    "print(classification_rep)"
   ]
  },
  {
   "cell_type": "code",
   "execution_count": 21,
   "id": "2fcf5bf4",
   "metadata": {},
   "outputs": [],
   "source": [
    "import pickle\n",
    "# Save the trained model to a file using pickle\n",
    "with open('XGB.pkl', 'wb') as model_file:\n",
    "    pickle.dump(xgb_classifier, model_file)"
   ]
  },
  {
   "cell_type": "markdown",
   "id": "4f3a0d92",
   "metadata": {},
   "source": [
    "_______________________________________________________________________________________________________________________________"
   ]
  },
  {
   "cell_type": "markdown",
   "id": "39c7dd09",
   "metadata": {},
   "source": [
    "## Hyperparameter Tuning"
   ]
  },
  {
   "cell_type": "code",
   "execution_count": null,
   "id": "be359951",
   "metadata": {},
   "outputs": [],
   "source": [
    "from sklearn.model_selection import RandomizedSearchCV\n",
    "from sklearn.linear_model import LogisticRegression\n",
    "\n",
    "param_dist = {\n",
    "    'C': [0.01, 0.1, 1, 10],\n",
    "    'penalty': ['l1', 'l2'],\n",
    "    'solver': ['liblinear', 'saga']\n",
    "}\n",
    "\n",
    "logreg = LogisticRegression(max_iter=1000)\n",
    "\n",
    "random_search_logreg = RandomizedSearchCV(\n",
    "    logreg, param_distributions=param_dist, n_iter=10, scoring='accuracy', cv=5\n",
    ")\n",
    "\n",
    "random_search_logreg.fit(X_train_scaled, y_train)\n",
    "\n",
    "best_params_logreg = random_search_logreg.best_params_\n",
    "print(\"Best Hyperparameters for Logistic Regression:\", best_params_logreg)\n"
   ]
  },
  {
   "cell_type": "markdown",
   "id": "2f78f092",
   "metadata": {},
   "source": [
    "# Feature Importance for the best model"
   ]
  },
  {
   "cell_type": "code",
   "execution_count": 29,
   "id": "14b9a1a4",
   "metadata": {},
   "outputs": [
    {
     "data": {
      "image/png": "[encoded data removed]",
      "text/plain": [
       "<Figure size 1000x600 with 1 Axes>"
      ]
     },
     "metadata": {},
     "output_type": "display_data"
    }
   ],
   "source": [
    "import matplotlib.pyplot as plt\n",
    "from sklearn.ensemble import RandomForestClassifier\n",
    "\n",
    "# Train your RandomForestClassifier\n",
    "model = RandomForestClassifier(n_estimators=100, max_depth=5, random_state=42)\n",
    "model.fit(X_train_scaled, y_train)\n",
    "\n",
    "# Get feature importances\n",
    "feature_importances = model.feature_importances_\n",
    "\n",
    "# Get the names of the features\n",
    "feature_names = X_train.columns\n",
    "\n",
    "# Sort features by importance in descending order\n",
    "sorted_indices = feature_importances.argsort()[::-1]\n",
    "\n",
    "# Choose the top N features to display\n",
    "top_n = 20  # Choose the number of top features you want to display\n",
    "\n",
    "# Create a bar plot for top N feature importances\n",
    "plt.figure(figsize=(10, 6))\n",
    "plt.barh(range(top_n), feature_importances[sorted_indices][:top_n][::-1])  # Reverse the order\n",
    "plt.yticks(range(top_n), feature_names[sorted_indices][:top_n][::-1])  # Reverse the order\n",
    "plt.xlabel('Feature Importance')\n",
    "plt.ylabel('Features')\n",
    "plt.title(f'Top {top_n} Feature Importances from RandomForestClassifier')\n",
    "plt.show()\n"
   ]
  },
  {
   "cell_type": "code",
   "execution_count": 36,
   "id": "8d35ade4",
   "metadata": {
    "scrolled": false
   },
   "outputs": [
    {
     "data": {
      "image/png": "[encoded data removed]",
      "text/plain": [
       "<Figure size 800x600 with 1 Axes>"
      ]
     },
     "metadata": {},
     "output_type": "display_data"
    }
   ],
   "source": [
    "# Create a confusion matrix\n",
    "conf_matrix = confusion_matrix(y_test, rf_predictions)\n",
    "\n",
    "# Visualize the confusion matrix\n",
    "plt.figure(figsize=(8, 6))\n",
    "sns.heatmap(conf_matrix, annot=True, cmap='Blues', fmt='d', cbar=False)\n",
    "plt.xlabel('Predicted Labels')\n",
    "plt.ylabel('True Labels')\n",
    "plt.title('Confusion Matrix')\n",
    "plt.show()"
   ]
  },
  {
   "cell_type": "code",
   "execution_count": 42,
   "id": "7e68e4cc",
   "metadata": {},
   "outputs": [
    {
     "name": "stdout",
     "output_type": "stream",
     "text": [
      "Cross-Validation Scores: [0.63233404 0.6318131  0.63198338 0.63203383 0.63218726]\n",
      "Mean CV Accuracy: 0.6320703215561332\n",
      "Standard Deviation of CV Accuracy: 0.00017791903469263992\n"
     ]
    },
    {
     "ename": "KeyboardInterrupt",
     "evalue": "",
     "output_type": "error",
     "traceback": [
      "\u001b[1;31m---------------------------------------------------------------------------\u001b[0m",
      "\u001b[1;31mKeyboardInterrupt\u001b[0m                         Traceback (most recent call last)",
      "Cell \u001b[1;32mIn[42], line 17\u001b[0m\n\u001b[0;32m     14\u001b[0m \u001b[38;5;28mprint\u001b[39m(\u001b[38;5;124m\"\u001b[39m\u001b[38;5;124mStandard Deviation of CV Accuracy:\u001b[39m\u001b[38;5;124m\"\u001b[39m, cv_scores\u001b[38;5;241m.\u001b[39mstd())\n\u001b[0;32m     16\u001b[0m \u001b[38;5;66;03m# Fit the model on the entire training data\u001b[39;00m\n\u001b[1;32m---> 17\u001b[0m logreg\u001b[38;5;241m.\u001b[39mfit(X_train_scaled, y_train)\n\u001b[0;32m     19\u001b[0m \u001b[38;5;66;03m# Make predictions on the test data\u001b[39;00m\n\u001b[0;32m     20\u001b[0m logreg_predictions \u001b[38;5;241m=\u001b[39m logreg\u001b[38;5;241m.\u001b[39mpredict(X_test_scaled)\n",
      "File \u001b[1;32m~\\anaconda3\\envs\\isolatedEnv\\Lib\\site-packages\\sklearn\\base.py:1151\u001b[0m, in \u001b[0;36m_fit_context.<locals>.decorator.<locals>.wrapper\u001b[1;34m(estimator, *args, **kwargs)\u001b[0m\n\u001b[0;32m   1144\u001b[0m     estimator\u001b[38;5;241m.\u001b[39m_validate_params()\n\u001b[0;32m   1146\u001b[0m \u001b[38;5;28;01mwith\u001b[39;00m config_context(\n\u001b[0;32m   1147\u001b[0m     skip_parameter_validation\u001b[38;5;241m=\u001b[39m(\n\u001b[0;32m   1148\u001b[0m         prefer_skip_nested_validation \u001b[38;5;129;01mor\u001b[39;00m global_skip_validation\n\u001b[0;32m   1149\u001b[0m     )\n\u001b[0;32m   1150\u001b[0m ):\n\u001b[1;32m-> 1151\u001b[0m     \u001b[38;5;28;01mreturn\u001b[39;00m fit_method(estimator, \u001b[38;5;241m*\u001b[39margs, \u001b[38;5;241m*\u001b[39m\u001b[38;5;241m*\u001b[39mkwargs)\n",
      "File \u001b[1;32m~\\anaconda3\\envs\\isolatedEnv\\Lib\\site-packages\\sklearn\\linear_model\\_logistic.py:1302\u001b[0m, in \u001b[0;36mLogisticRegression.fit\u001b[1;34m(self, X, y, sample_weight)\u001b[0m\n\u001b[0;32m   1299\u001b[0m \u001b[38;5;28;01melse\u001b[39;00m:\n\u001b[0;32m   1300\u001b[0m     n_threads \u001b[38;5;241m=\u001b[39m \u001b[38;5;241m1\u001b[39m\n\u001b[1;32m-> 1302\u001b[0m fold_coefs_ \u001b[38;5;241m=\u001b[39m Parallel(n_jobs\u001b[38;5;241m=\u001b[39m\u001b[38;5;28mself\u001b[39m\u001b[38;5;241m.\u001b[39mn_jobs, verbose\u001b[38;5;241m=\u001b[39m\u001b[38;5;28mself\u001b[39m\u001b[38;5;241m.\u001b[39mverbose, prefer\u001b[38;5;241m=\u001b[39mprefer)(\n\u001b[0;32m   1303\u001b[0m     path_func(\n\u001b[0;32m   1304\u001b[0m         X,\n\u001b[0;32m   1305\u001b[0m         y,\n\u001b[0;32m   1306\u001b[0m         pos_class\u001b[38;5;241m=\u001b[39mclass_,\n\u001b[0;32m   1307\u001b[0m         Cs\u001b[38;5;241m=\u001b[39m[C_],\n\u001b[0;32m   1308\u001b[0m         l1_ratio\u001b[38;5;241m=\u001b[39m\u001b[38;5;28mself\u001b[39m\u001b[38;5;241m.\u001b[39ml1_ratio,\n\u001b[0;32m   1309\u001b[0m         fit_intercept\u001b[38;5;241m=\u001b[39m\u001b[38;5;28mself\u001b[39m\u001b[38;5;241m.\u001b[39mfit_intercept,\n\u001b[0;32m   1310\u001b[0m         tol\u001b[38;5;241m=\u001b[39m\u001b[38;5;28mself\u001b[39m\u001b[38;5;241m.\u001b[39mtol,\n\u001b[0;32m   1311\u001b[0m         verbose\u001b[38;5;241m=\u001b[39m\u001b[38;5;28mself\u001b[39m\u001b[38;5;241m.\u001b[39mverbose,\n\u001b[0;32m   1312\u001b[0m         solver\u001b[38;5;241m=\u001b[39msolver,\n\u001b[0;32m   1313\u001b[0m         multi_class\u001b[38;5;241m=\u001b[39mmulti_class,\n\u001b[0;32m   1314\u001b[0m         max_iter\u001b[38;5;241m=\u001b[39m\u001b[38;5;28mself\u001b[39m\u001b[38;5;241m.\u001b[39mmax_iter,\n\u001b[0;32m   1315\u001b[0m         class_weight\u001b[38;5;241m=\u001b[39m\u001b[38;5;28mself\u001b[39m\u001b[38;5;241m.\u001b[39mclass_weight,\n\u001b[0;32m   1316\u001b[0m         check_input\u001b[38;5;241m=\u001b[39m\u001b[38;5;28;01mFalse\u001b[39;00m,\n\u001b[0;32m   1317\u001b[0m         random_state\u001b[38;5;241m=\u001b[39m\u001b[38;5;28mself\u001b[39m\u001b[38;5;241m.\u001b[39mrandom_state,\n\u001b[0;32m   1318\u001b[0m         coef\u001b[38;5;241m=\u001b[39mwarm_start_coef_,\n\u001b[0;32m   1319\u001b[0m         penalty\u001b[38;5;241m=\u001b[39mpenalty,\n\u001b[0;32m   1320\u001b[0m         max_squared_sum\u001b[38;5;241m=\u001b[39mmax_squared_sum,\n\u001b[0;32m   1321\u001b[0m         sample_weight\u001b[38;5;241m=\u001b[39msample_weight,\n\u001b[0;32m   1322\u001b[0m         n_threads\u001b[38;5;241m=\u001b[39mn_threads,\n\u001b[0;32m   1323\u001b[0m     )\n\u001b[0;32m   1324\u001b[0m     \u001b[38;5;28;01mfor\u001b[39;00m class_, warm_start_coef_ \u001b[38;5;129;01min\u001b[39;00m \u001b[38;5;28mzip\u001b[39m(classes_, warm_start_coef)\n\u001b[0;32m   1325\u001b[0m )\n\u001b[0;32m   1327\u001b[0m fold_coefs_, _, n_iter_ \u001b[38;5;241m=\u001b[39m \u001b[38;5;28mzip\u001b[39m(\u001b[38;5;241m*\u001b[39mfold_coefs_)\n\u001b[0;32m   1328\u001b[0m \u001b[38;5;28mself\u001b[39m\u001b[38;5;241m.\u001b[39mn_iter_ \u001b[38;5;241m=\u001b[39m np\u001b[38;5;241m.\u001b[39masarray(n_iter_, dtype\u001b[38;5;241m=\u001b[39mnp\u001b[38;5;241m.\u001b[39mint32)[:, \u001b[38;5;241m0\u001b[39m]\n",
      "File \u001b[1;32m~\\anaconda3\\envs\\isolatedEnv\\Lib\\site-packages\\sklearn\\utils\\parallel.py:65\u001b[0m, in \u001b[0;36mParallel.__call__\u001b[1;34m(self, iterable)\u001b[0m\n\u001b[0;32m     60\u001b[0m config \u001b[38;5;241m=\u001b[39m get_config()\n\u001b[0;32m     61\u001b[0m iterable_with_config \u001b[38;5;241m=\u001b[39m (\n\u001b[0;32m     62\u001b[0m     (_with_config(delayed_func, config), args, kwargs)\n\u001b[0;32m     63\u001b[0m     \u001b[38;5;28;01mfor\u001b[39;00m delayed_func, args, kwargs \u001b[38;5;129;01min\u001b[39;00m iterable\n\u001b[0;32m     64\u001b[0m )\n\u001b[1;32m---> 65\u001b[0m \u001b[38;5;28;01mreturn\u001b[39;00m \u001b[38;5;28msuper\u001b[39m()\u001b[38;5;241m.\u001b[39m\u001b[38;5;21m__call__\u001b[39m(iterable_with_config)\n",
      "File \u001b[1;32m~\\anaconda3\\envs\\isolatedEnv\\Lib\\site-packages\\joblib\\parallel.py:1863\u001b[0m, in \u001b[0;36mParallel.__call__\u001b[1;34m(self, iterable)\u001b[0m\n\u001b[0;32m   1861\u001b[0m     output \u001b[38;5;241m=\u001b[39m \u001b[38;5;28mself\u001b[39m\u001b[38;5;241m.\u001b[39m_get_sequential_output(iterable)\n\u001b[0;32m   1862\u001b[0m     \u001b[38;5;28mnext\u001b[39m(output)\n\u001b[1;32m-> 1863\u001b[0m     \u001b[38;5;28;01mreturn\u001b[39;00m output \u001b[38;5;28;01mif\u001b[39;00m \u001b[38;5;28mself\u001b[39m\u001b[38;5;241m.\u001b[39mreturn_generator \u001b[38;5;28;01melse\u001b[39;00m \u001b[38;5;28mlist\u001b[39m(output)\n\u001b[0;32m   1865\u001b[0m \u001b[38;5;66;03m# Let's create an ID that uniquely identifies the current call. If the\u001b[39;00m\n\u001b[0;32m   1866\u001b[0m \u001b[38;5;66;03m# call is interrupted early and that the same instance is immediately\u001b[39;00m\n\u001b[0;32m   1867\u001b[0m \u001b[38;5;66;03m# re-used, this id will be used to prevent workers that were\u001b[39;00m\n\u001b[0;32m   1868\u001b[0m \u001b[38;5;66;03m# concurrently finalizing a task from the previous call to run the\u001b[39;00m\n\u001b[0;32m   1869\u001b[0m \u001b[38;5;66;03m# callback.\u001b[39;00m\n\u001b[0;32m   1870\u001b[0m \u001b[38;5;28;01mwith\u001b[39;00m \u001b[38;5;28mself\u001b[39m\u001b[38;5;241m.\u001b[39m_lock:\n",
      "File \u001b[1;32m~\\anaconda3\\envs\\isolatedEnv\\Lib\\site-packages\\joblib\\parallel.py:1792\u001b[0m, in \u001b[0;36mParallel._get_sequential_output\u001b[1;34m(self, iterable)\u001b[0m\n\u001b[0;32m   1790\u001b[0m \u001b[38;5;28mself\u001b[39m\u001b[38;5;241m.\u001b[39mn_dispatched_batches \u001b[38;5;241m+\u001b[39m\u001b[38;5;241m=\u001b[39m \u001b[38;5;241m1\u001b[39m\n\u001b[0;32m   1791\u001b[0m \u001b[38;5;28mself\u001b[39m\u001b[38;5;241m.\u001b[39mn_dispatched_tasks \u001b[38;5;241m+\u001b[39m\u001b[38;5;241m=\u001b[39m \u001b[38;5;241m1\u001b[39m\n\u001b[1;32m-> 1792\u001b[0m res \u001b[38;5;241m=\u001b[39m func(\u001b[38;5;241m*\u001b[39margs, \u001b[38;5;241m*\u001b[39m\u001b[38;5;241m*\u001b[39mkwargs)\n\u001b[0;32m   1793\u001b[0m \u001b[38;5;28mself\u001b[39m\u001b[38;5;241m.\u001b[39mn_completed_tasks \u001b[38;5;241m+\u001b[39m\u001b[38;5;241m=\u001b[39m \u001b[38;5;241m1\u001b[39m\n\u001b[0;32m   1794\u001b[0m \u001b[38;5;28mself\u001b[39m\u001b[38;5;241m.\u001b[39mprint_progress()\n",
      "File \u001b[1;32m~\\anaconda3\\envs\\isolatedEnv\\Lib\\site-packages\\sklearn\\utils\\parallel.py:127\u001b[0m, in \u001b[0;36m_FuncWrapper.__call__\u001b[1;34m(self, *args, **kwargs)\u001b[0m\n\u001b[0;32m    125\u001b[0m     config \u001b[38;5;241m=\u001b[39m {}\n\u001b[0;32m    126\u001b[0m \u001b[38;5;28;01mwith\u001b[39;00m config_context(\u001b[38;5;241m*\u001b[39m\u001b[38;5;241m*\u001b[39mconfig):\n\u001b[1;32m--> 127\u001b[0m     \u001b[38;5;28;01mreturn\u001b[39;00m \u001b[38;5;28mself\u001b[39m\u001b[38;5;241m.\u001b[39mfunction(\u001b[38;5;241m*\u001b[39margs, \u001b[38;5;241m*\u001b[39m\u001b[38;5;241m*\u001b[39mkwargs)\n",
      "File \u001b[1;32m~\\anaconda3\\envs\\isolatedEnv\\Lib\\site-packages\\sklearn\\linear_model\\_logistic.py:452\u001b[0m, in \u001b[0;36m_logistic_regression_path\u001b[1;34m(X, y, pos_class, Cs, fit_intercept, max_iter, tol, verbose, solver, coef, class_weight, dual, penalty, intercept_scaling, multi_class, random_state, check_input, max_squared_sum, sample_weight, l1_ratio, n_threads)\u001b[0m\n\u001b[0;32m    448\u001b[0m l2_reg_strength \u001b[38;5;241m=\u001b[39m \u001b[38;5;241m1.0\u001b[39m \u001b[38;5;241m/\u001b[39m C\n\u001b[0;32m    449\u001b[0m iprint \u001b[38;5;241m=\u001b[39m [\u001b[38;5;241m-\u001b[39m\u001b[38;5;241m1\u001b[39m, \u001b[38;5;241m50\u001b[39m, \u001b[38;5;241m1\u001b[39m, \u001b[38;5;241m100\u001b[39m, \u001b[38;5;241m101\u001b[39m][\n\u001b[0;32m    450\u001b[0m     np\u001b[38;5;241m.\u001b[39msearchsorted(np\u001b[38;5;241m.\u001b[39marray([\u001b[38;5;241m0\u001b[39m, \u001b[38;5;241m1\u001b[39m, \u001b[38;5;241m2\u001b[39m, \u001b[38;5;241m3\u001b[39m]), verbose)\n\u001b[0;32m    451\u001b[0m ]\n\u001b[1;32m--> 452\u001b[0m opt_res \u001b[38;5;241m=\u001b[39m optimize\u001b[38;5;241m.\u001b[39mminimize(\n\u001b[0;32m    453\u001b[0m     func,\n\u001b[0;32m    454\u001b[0m     w0,\n\u001b[0;32m    455\u001b[0m     method\u001b[38;5;241m=\u001b[39m\u001b[38;5;124m\"\u001b[39m\u001b[38;5;124mL-BFGS-B\u001b[39m\u001b[38;5;124m\"\u001b[39m,\n\u001b[0;32m    456\u001b[0m     jac\u001b[38;5;241m=\u001b[39m\u001b[38;5;28;01mTrue\u001b[39;00m,\n\u001b[0;32m    457\u001b[0m     args\u001b[38;5;241m=\u001b[39m(X, target, sample_weight, l2_reg_strength, n_threads),\n\u001b[0;32m    458\u001b[0m     options\u001b[38;5;241m=\u001b[39m{\u001b[38;5;124m\"\u001b[39m\u001b[38;5;124miprint\u001b[39m\u001b[38;5;124m\"\u001b[39m: iprint, \u001b[38;5;124m\"\u001b[39m\u001b[38;5;124mgtol\u001b[39m\u001b[38;5;124m\"\u001b[39m: tol, \u001b[38;5;124m\"\u001b[39m\u001b[38;5;124mmaxiter\u001b[39m\u001b[38;5;124m\"\u001b[39m: max_iter},\n\u001b[0;32m    459\u001b[0m )\n\u001b[0;32m    460\u001b[0m n_iter_i \u001b[38;5;241m=\u001b[39m _check_optimize_result(\n\u001b[0;32m    461\u001b[0m     solver,\n\u001b[0;32m    462\u001b[0m     opt_res,\n\u001b[0;32m    463\u001b[0m     max_iter,\n\u001b[0;32m    464\u001b[0m     extra_warning_msg\u001b[38;5;241m=\u001b[39m_LOGISTIC_SOLVER_CONVERGENCE_MSG,\n\u001b[0;32m    465\u001b[0m )\n\u001b[0;32m    466\u001b[0m w0, loss \u001b[38;5;241m=\u001b[39m opt_res\u001b[38;5;241m.\u001b[39mx, opt_res\u001b[38;5;241m.\u001b[39mfun\n",
      "File \u001b[1;32m~\\anaconda3\\envs\\isolatedEnv\\Lib\\site-packages\\scipy\\optimize\\_minimize.py:710\u001b[0m, in \u001b[0;36mminimize\u001b[1;34m(fun, x0, args, method, jac, hess, hessp, bounds, constraints, tol, callback, options)\u001b[0m\n\u001b[0;32m    707\u001b[0m     res \u001b[38;5;241m=\u001b[39m _minimize_newtoncg(fun, x0, args, jac, hess, hessp, callback,\n\u001b[0;32m    708\u001b[0m                              \u001b[38;5;241m*\u001b[39m\u001b[38;5;241m*\u001b[39moptions)\n\u001b[0;32m    709\u001b[0m \u001b[38;5;28;01melif\u001b[39;00m meth \u001b[38;5;241m==\u001b[39m \u001b[38;5;124m'\u001b[39m\u001b[38;5;124ml-bfgs-b\u001b[39m\u001b[38;5;124m'\u001b[39m:\n\u001b[1;32m--> 710\u001b[0m     res \u001b[38;5;241m=\u001b[39m _minimize_lbfgsb(fun, x0, args, jac, bounds,\n\u001b[0;32m    711\u001b[0m                            callback\u001b[38;5;241m=\u001b[39mcallback, \u001b[38;5;241m*\u001b[39m\u001b[38;5;241m*\u001b[39moptions)\n\u001b[0;32m    712\u001b[0m \u001b[38;5;28;01melif\u001b[39;00m meth \u001b[38;5;241m==\u001b[39m \u001b[38;5;124m'\u001b[39m\u001b[38;5;124mtnc\u001b[39m\u001b[38;5;124m'\u001b[39m:\n\u001b[0;32m    713\u001b[0m     res \u001b[38;5;241m=\u001b[39m _minimize_tnc(fun, x0, args, jac, bounds, callback\u001b[38;5;241m=\u001b[39mcallback,\n\u001b[0;32m    714\u001b[0m                         \u001b[38;5;241m*\u001b[39m\u001b[38;5;241m*\u001b[39moptions)\n",
      "File \u001b[1;32m~\\anaconda3\\envs\\isolatedEnv\\Lib\\site-packages\\scipy\\optimize\\_lbfgsb_py.py:361\u001b[0m, in \u001b[0;36m_minimize_lbfgsb\u001b[1;34m(fun, x0, args, jac, bounds, disp, maxcor, ftol, gtol, eps, maxfun, maxiter, iprint, callback, maxls, finite_diff_rel_step, **unknown_options)\u001b[0m\n\u001b[0;32m    355\u001b[0m task_str \u001b[38;5;241m=\u001b[39m task\u001b[38;5;241m.\u001b[39mtobytes()\n\u001b[0;32m    356\u001b[0m \u001b[38;5;28;01mif\u001b[39;00m task_str\u001b[38;5;241m.\u001b[39mstartswith(\u001b[38;5;124mb\u001b[39m\u001b[38;5;124m'\u001b[39m\u001b[38;5;124mFG\u001b[39m\u001b[38;5;124m'\u001b[39m):\n\u001b[0;32m    357\u001b[0m     \u001b[38;5;66;03m# The minimization routine wants f and g at the current x.\u001b[39;00m\n\u001b[0;32m    358\u001b[0m     \u001b[38;5;66;03m# Note that interruptions due to maxfun are postponed\u001b[39;00m\n\u001b[0;32m    359\u001b[0m     \u001b[38;5;66;03m# until the completion of the current minimization iteration.\u001b[39;00m\n\u001b[0;32m    360\u001b[0m     \u001b[38;5;66;03m# Overwrite f and g:\u001b[39;00m\n\u001b[1;32m--> 361\u001b[0m     f, g \u001b[38;5;241m=\u001b[39m func_and_grad(x)\n\u001b[0;32m    362\u001b[0m \u001b[38;5;28;01melif\u001b[39;00m task_str\u001b[38;5;241m.\u001b[39mstartswith(\u001b[38;5;124mb\u001b[39m\u001b[38;5;124m'\u001b[39m\u001b[38;5;124mNEW_X\u001b[39m\u001b[38;5;124m'\u001b[39m):\n\u001b[0;32m    363\u001b[0m     \u001b[38;5;66;03m# new iteration\u001b[39;00m\n\u001b[0;32m    364\u001b[0m     n_iterations \u001b[38;5;241m+\u001b[39m\u001b[38;5;241m=\u001b[39m \u001b[38;5;241m1\u001b[39m\n",
      "File \u001b[1;32m~\\anaconda3\\envs\\isolatedEnv\\Lib\\site-packages\\scipy\\optimize\\_differentiable_functions.py:285\u001b[0m, in \u001b[0;36mScalarFunction.fun_and_grad\u001b[1;34m(self, x)\u001b[0m\n\u001b[0;32m    283\u001b[0m \u001b[38;5;28;01mif\u001b[39;00m \u001b[38;5;129;01mnot\u001b[39;00m np\u001b[38;5;241m.\u001b[39marray_equal(x, \u001b[38;5;28mself\u001b[39m\u001b[38;5;241m.\u001b[39mx):\n\u001b[0;32m    284\u001b[0m     \u001b[38;5;28mself\u001b[39m\u001b[38;5;241m.\u001b[39m_update_x_impl(x)\n\u001b[1;32m--> 285\u001b[0m \u001b[38;5;28mself\u001b[39m\u001b[38;5;241m.\u001b[39m_update_fun()\n\u001b[0;32m    286\u001b[0m \u001b[38;5;28mself\u001b[39m\u001b[38;5;241m.\u001b[39m_update_grad()\n\u001b[0;32m    287\u001b[0m \u001b[38;5;28;01mreturn\u001b[39;00m \u001b[38;5;28mself\u001b[39m\u001b[38;5;241m.\u001b[39mf, \u001b[38;5;28mself\u001b[39m\u001b[38;5;241m.\u001b[39mg\n",
      "File \u001b[1;32m~\\anaconda3\\envs\\isolatedEnv\\Lib\\site-packages\\scipy\\optimize\\_differentiable_functions.py:251\u001b[0m, in \u001b[0;36mScalarFunction._update_fun\u001b[1;34m(self)\u001b[0m\n\u001b[0;32m    249\u001b[0m \u001b[38;5;28;01mdef\u001b[39;00m \u001b[38;5;21m_update_fun\u001b[39m(\u001b[38;5;28mself\u001b[39m):\n\u001b[0;32m    250\u001b[0m     \u001b[38;5;28;01mif\u001b[39;00m \u001b[38;5;129;01mnot\u001b[39;00m \u001b[38;5;28mself\u001b[39m\u001b[38;5;241m.\u001b[39mf_updated:\n\u001b[1;32m--> 251\u001b[0m         \u001b[38;5;28mself\u001b[39m\u001b[38;5;241m.\u001b[39m_update_fun_impl()\n\u001b[0;32m    252\u001b[0m         \u001b[38;5;28mself\u001b[39m\u001b[38;5;241m.\u001b[39mf_updated \u001b[38;5;241m=\u001b[39m \u001b[38;5;28;01mTrue\u001b[39;00m\n",
      "File \u001b[1;32m~\\anaconda3\\envs\\isolatedEnv\\Lib\\site-packages\\scipy\\optimize\\_differentiable_functions.py:155\u001b[0m, in \u001b[0;36mScalarFunction.__init__.<locals>.update_fun\u001b[1;34m()\u001b[0m\n\u001b[0;32m    154\u001b[0m \u001b[38;5;28;01mdef\u001b[39;00m \u001b[38;5;21mupdate_fun\u001b[39m():\n\u001b[1;32m--> 155\u001b[0m     \u001b[38;5;28mself\u001b[39m\u001b[38;5;241m.\u001b[39mf \u001b[38;5;241m=\u001b[39m fun_wrapped(\u001b[38;5;28mself\u001b[39m\u001b[38;5;241m.\u001b[39mx)\n",
      "File \u001b[1;32m~\\anaconda3\\envs\\isolatedEnv\\Lib\\site-packages\\scipy\\optimize\\_differentiable_functions.py:137\u001b[0m, in \u001b[0;36mScalarFunction.__init__.<locals>.fun_wrapped\u001b[1;34m(x)\u001b[0m\n\u001b[0;32m    133\u001b[0m \u001b[38;5;28mself\u001b[39m\u001b[38;5;241m.\u001b[39mnfev \u001b[38;5;241m+\u001b[39m\u001b[38;5;241m=\u001b[39m \u001b[38;5;241m1\u001b[39m\n\u001b[0;32m    134\u001b[0m \u001b[38;5;66;03m# Send a copy because the user may overwrite it.\u001b[39;00m\n\u001b[0;32m    135\u001b[0m \u001b[38;5;66;03m# Overwriting results in undefined behaviour because\u001b[39;00m\n\u001b[0;32m    136\u001b[0m \u001b[38;5;66;03m# fun(self.x) will change self.x, with the two no longer linked.\u001b[39;00m\n\u001b[1;32m--> 137\u001b[0m fx \u001b[38;5;241m=\u001b[39m fun(np\u001b[38;5;241m.\u001b[39mcopy(x), \u001b[38;5;241m*\u001b[39margs)\n\u001b[0;32m    138\u001b[0m \u001b[38;5;66;03m# Make sure the function returns a true scalar\u001b[39;00m\n\u001b[0;32m    139\u001b[0m \u001b[38;5;28;01mif\u001b[39;00m \u001b[38;5;129;01mnot\u001b[39;00m np\u001b[38;5;241m.\u001b[39misscalar(fx):\n",
      "File \u001b[1;32m~\\anaconda3\\envs\\isolatedEnv\\Lib\\site-packages\\scipy\\optimize\\_optimize.py:77\u001b[0m, in \u001b[0;36mMemoizeJac.__call__\u001b[1;34m(self, x, *args)\u001b[0m\n\u001b[0;32m     75\u001b[0m \u001b[38;5;28;01mdef\u001b[39;00m \u001b[38;5;21m__call__\u001b[39m(\u001b[38;5;28mself\u001b[39m, x, \u001b[38;5;241m*\u001b[39margs):\n\u001b[0;32m     76\u001b[0m \u001b[38;5;250m    \u001b[39m\u001b[38;5;124;03m\"\"\" returns the function value \"\"\"\u001b[39;00m\n\u001b[1;32m---> 77\u001b[0m     \u001b[38;5;28mself\u001b[39m\u001b[38;5;241m.\u001b[39m_compute_if_needed(x, \u001b[38;5;241m*\u001b[39margs)\n\u001b[0;32m     78\u001b[0m     \u001b[38;5;28;01mreturn\u001b[39;00m \u001b[38;5;28mself\u001b[39m\u001b[38;5;241m.\u001b[39m_value\n",
      "File \u001b[1;32m~\\anaconda3\\envs\\isolatedEnv\\Lib\\site-packages\\scipy\\optimize\\_optimize.py:71\u001b[0m, in \u001b[0;36mMemoizeJac._compute_if_needed\u001b[1;34m(self, x, *args)\u001b[0m\n\u001b[0;32m     69\u001b[0m \u001b[38;5;28;01mif\u001b[39;00m \u001b[38;5;129;01mnot\u001b[39;00m np\u001b[38;5;241m.\u001b[39mall(x \u001b[38;5;241m==\u001b[39m \u001b[38;5;28mself\u001b[39m\u001b[38;5;241m.\u001b[39mx) \u001b[38;5;129;01mor\u001b[39;00m \u001b[38;5;28mself\u001b[39m\u001b[38;5;241m.\u001b[39m_value \u001b[38;5;129;01mis\u001b[39;00m \u001b[38;5;28;01mNone\u001b[39;00m \u001b[38;5;129;01mor\u001b[39;00m \u001b[38;5;28mself\u001b[39m\u001b[38;5;241m.\u001b[39mjac \u001b[38;5;129;01mis\u001b[39;00m \u001b[38;5;28;01mNone\u001b[39;00m:\n\u001b[0;32m     70\u001b[0m     \u001b[38;5;28mself\u001b[39m\u001b[38;5;241m.\u001b[39mx \u001b[38;5;241m=\u001b[39m np\u001b[38;5;241m.\u001b[39masarray(x)\u001b[38;5;241m.\u001b[39mcopy()\n\u001b[1;32m---> 71\u001b[0m     fg \u001b[38;5;241m=\u001b[39m \u001b[38;5;28mself\u001b[39m\u001b[38;5;241m.\u001b[39mfun(x, \u001b[38;5;241m*\u001b[39margs)\n\u001b[0;32m     72\u001b[0m     \u001b[38;5;28mself\u001b[39m\u001b[38;5;241m.\u001b[39mjac \u001b[38;5;241m=\u001b[39m fg[\u001b[38;5;241m1\u001b[39m]\n\u001b[0;32m     73\u001b[0m     \u001b[38;5;28mself\u001b[39m\u001b[38;5;241m.\u001b[39m_value \u001b[38;5;241m=\u001b[39m fg[\u001b[38;5;241m0\u001b[39m]\n",
      "File \u001b[1;32m~\\anaconda3\\envs\\isolatedEnv\\Lib\\site-packages\\sklearn\\linear_model\\_linear_loss.py:279\u001b[0m, in \u001b[0;36mLinearModelLoss.loss_gradient\u001b[1;34m(self, coef, X, y, sample_weight, l2_reg_strength, n_threads, raw_prediction)\u001b[0m\n\u001b[0;32m    276\u001b[0m \u001b[38;5;28;01melse\u001b[39;00m:\n\u001b[0;32m    277\u001b[0m     weights, intercept \u001b[38;5;241m=\u001b[39m \u001b[38;5;28mself\u001b[39m\u001b[38;5;241m.\u001b[39mweight_intercept(coef)\n\u001b[1;32m--> 279\u001b[0m loss, grad_pointwise \u001b[38;5;241m=\u001b[39m \u001b[38;5;28mself\u001b[39m\u001b[38;5;241m.\u001b[39mbase_loss\u001b[38;5;241m.\u001b[39mloss_gradient(\n\u001b[0;32m    280\u001b[0m     y_true\u001b[38;5;241m=\u001b[39my,\n\u001b[0;32m    281\u001b[0m     raw_prediction\u001b[38;5;241m=\u001b[39mraw_prediction,\n\u001b[0;32m    282\u001b[0m     sample_weight\u001b[38;5;241m=\u001b[39msample_weight,\n\u001b[0;32m    283\u001b[0m     n_threads\u001b[38;5;241m=\u001b[39mn_threads,\n\u001b[0;32m    284\u001b[0m )\n\u001b[0;32m    285\u001b[0m loss \u001b[38;5;241m=\u001b[39m loss\u001b[38;5;241m.\u001b[39msum()\n\u001b[0;32m    286\u001b[0m loss \u001b[38;5;241m+\u001b[39m\u001b[38;5;241m=\u001b[39m \u001b[38;5;28mself\u001b[39m\u001b[38;5;241m.\u001b[39ml2_penalty(weights, l2_reg_strength)\n",
      "File \u001b[1;32m~\\anaconda3\\envs\\isolatedEnv\\Lib\\site-packages\\sklearn\\_loss\\loss.py:253\u001b[0m, in \u001b[0;36mBaseLoss.loss_gradient\u001b[1;34m(self, y_true, raw_prediction, sample_weight, loss_out, gradient_out, n_threads)\u001b[0m\n\u001b[0;32m    250\u001b[0m \u001b[38;5;28;01mif\u001b[39;00m gradient_out\u001b[38;5;241m.\u001b[39mndim \u001b[38;5;241m==\u001b[39m \u001b[38;5;241m2\u001b[39m \u001b[38;5;129;01mand\u001b[39;00m gradient_out\u001b[38;5;241m.\u001b[39mshape[\u001b[38;5;241m1\u001b[39m] \u001b[38;5;241m==\u001b[39m \u001b[38;5;241m1\u001b[39m:\n\u001b[0;32m    251\u001b[0m     gradient_out \u001b[38;5;241m=\u001b[39m gradient_out\u001b[38;5;241m.\u001b[39msqueeze(\u001b[38;5;241m1\u001b[39m)\n\u001b[1;32m--> 253\u001b[0m \u001b[38;5;28;01mreturn\u001b[39;00m \u001b[38;5;28mself\u001b[39m\u001b[38;5;241m.\u001b[39mcloss\u001b[38;5;241m.\u001b[39mloss_gradient(\n\u001b[0;32m    254\u001b[0m     y_true\u001b[38;5;241m=\u001b[39my_true,\n\u001b[0;32m    255\u001b[0m     raw_prediction\u001b[38;5;241m=\u001b[39mraw_prediction,\n\u001b[0;32m    256\u001b[0m     sample_weight\u001b[38;5;241m=\u001b[39msample_weight,\n\u001b[0;32m    257\u001b[0m     loss_out\u001b[38;5;241m=\u001b[39mloss_out,\n\u001b[0;32m    258\u001b[0m     gradient_out\u001b[38;5;241m=\u001b[39mgradient_out,\n\u001b[0;32m    259\u001b[0m     n_threads\u001b[38;5;241m=\u001b[39mn_threads,\n\u001b[0;32m    260\u001b[0m )\n",
      "\u001b[1;31mKeyboardInterrupt\u001b[0m: "
     ]
    }
   ],
   "source": [
    "from sklearn.linear_model import LogisticRegression\n",
    "from sklearn.model_selection import cross_val_score\n",
    "from sklearn.metrics import classification_report\n",
    "\n",
    "# Create and train the logistic regression model\n",
    "logreg = LogisticRegression(max_iter=1000)\n",
    "\n",
    "# Perform cross-validation\n",
    "cv_scores = cross_val_score(logreg, X_train_scaled, y_train, cv=5, scoring='accuracy')\n",
    "\n",
    "# Print cross-validation scores\n",
    "print(\"Cross-Validation Scores:\", cv_scores)\n",
    "print(\"Mean CV Accuracy:\", cv_scores.mean())\n",
    "print(\"Standard Deviation of CV Accuracy:\", cv_scores.std())\n",
    "\n",
    "# Fit the model on the entire training data\n",
    "logreg.fit(X_train_scaled, y_train)\n",
    "\n",
    "# Make predictions on the test data\n",
    "logreg_predictions = logreg.predict(X_test_scaled)\n",
    "\n",
    "# Calculate accuracy\n",
    "logreg_accuracy = accuracy_score(y_test, logreg_predictions)\n",
    "print(\"Logistic Regression Accuracy:\", logreg_accuracy)\n",
    "\n",
    "# Print classification report\n",
    "classification_rep = classification_report(y_test, logreg_predictions)\n",
    "print(classification_rep)\n"
   ]
  },
  {
   "cell_type": "markdown",
   "id": "88cb4b34",
   "metadata": {},
   "source": [
    "# Saving the Best model"
   ]
  },
  {
   "cell_type": "code",
   "execution_count": null,
   "id": "cb2f20e3",
   "metadata": {},
   "outputs": [],
   "source": [
    "import pickle\n",
    "\n",
    "# Save the model to disk\n",
    "filename = 'best_model.pkl'\n",
    "pickle.dump(lr, open(filename, 'wb'))"
   ]
  },
  {
   "cell_type": "markdown",
   "id": "25a411f6",
   "metadata": {},
   "source": [
    "# Model Evaluation"
   ]
  },
  {
   "cell_type": "code",
   "execution_count": null,
   "id": "9fe043fa",
   "metadata": {},
   "outputs": [],
   "source": []
  },
  {
   "cell_type": "markdown",
   "id": "a47ddb09",
   "metadata": {},
   "source": [
    "# Insights"
   ]
  },
  {
   "cell_type": "code",
   "execution_count": null,
   "id": "95418b8e",
   "metadata": {},
   "outputs": [],
   "source": []
  }
 ],
 "metadata": {
  "kernelspec": {
   "display_name": "Python 3 (ipykernel)",
   "language": "python",
   "name": "python3"
  },
  "language_info": {
   "codemirror_mode": {
    "name": "ipython",
    "version": 3
   },
   "file_extension": ".py",
   "mimetype": "text/x-python",
   "name": "python",
   "nbconvert_exporter": "python",
   "pygments_lexer": "ipython3",
   "version": "3.11.4"
  }
 },
 "nbformat": 4,
 "nbformat_minor": 5
}
