{
 "cells": [
  {
   "cell_type": "markdown",
   "id": "67a9cd25",
   "metadata": {},
   "source": [
    "# Libraries"
   ]
  },
  {
   "cell_type": "code",
   "execution_count": 1,
   "id": "9d716d28",
   "metadata": {},
   "outputs": [],
   "source": [
    "import pandas as pd\n",
    "import numpy as np\n",
    "import sklearn\n",
    "\n",
    "import matplotlib.pyplot as plt\n",
    "import seaborn as sns\n",
    "\n",
    "from sklearn.preprocessing import OrdinalEncoder\n",
    "from sklearn.preprocessing import OneHotEncoder\n",
    "from sklearn.preprocessing import StandardScaler\n",
    "from sklearn.preprocessing import MinMaxScaler\n",
    "from sklearn.compose import make_column_transformer\n",
    "\n",
    "from imblearn.over_sampling import *\n",
    "from imblearn.under_sampling import *\n",
    "\n",
    "from sklearn.utils import *\n",
    "from sklearn.model_selection import train_test_split\n",
    "from platform import python_version\n",
    "\n",
    "from sklearn.tree import export_graphviz\n",
    "import graphviz"
   ]
  },
  {
   "cell_type": "markdown",
   "id": "cd3997be",
   "metadata": {},
   "source": [
    "# Importing the dataset "
   ]
  },
  {
   "cell_type": "code",
   "execution_count": 2,
   "id": "e5e6a9e3",
   "metadata": {},
   "outputs": [
    {
     "data": {
      "text/html": [
       "<div>\n",
       "<style scoped>\n",
       "    .dataframe tbody tr th:only-of-type {\n",
       "        vertical-align: middle;\n",
       "    }\n",
       "\n",
       "    .dataframe tbody tr th {\n",
       "        vertical-align: top;\n",
       "    }\n",
       "\n",
       "    .dataframe thead th {\n",
       "        text-align: right;\n",
       "    }\n",
       "</style>\n",
       "<table border=\"1\" class=\"dataframe\">\n",
       "  <thead>\n",
       "    <tr style=\"text-align: right;\">\n",
       "      <th></th>\n",
       "      <th>CRASH_DATE</th>\n",
       "      <th>POSTED_SPEED_LIMIT</th>\n",
       "      <th>TRAFFIC_CONTROL_DEVICE</th>\n",
       "      <th>DEVICE_CONDITION</th>\n",
       "      <th>WEATHER_CONDITION</th>\n",
       "      <th>LIGHTING_CONDITION</th>\n",
       "      <th>FIRST_CRASH_TYPE</th>\n",
       "      <th>TRAFFICWAY_TYPE</th>\n",
       "      <th>ALIGNMENT</th>\n",
       "      <th>ROADWAY_SURFACE_COND</th>\n",
       "      <th>...</th>\n",
       "      <th>STREET_DIRECTION</th>\n",
       "      <th>STREET_NAME</th>\n",
       "      <th>MOST_SEVERE_INJURY</th>\n",
       "      <th>INJURIES_TOTAL</th>\n",
       "      <th>CRASH_HOUR</th>\n",
       "      <th>CRASH_DAY_OF_WEEK</th>\n",
       "      <th>CRASH_MONTH</th>\n",
       "      <th>LATITUDE</th>\n",
       "      <th>LONGITUDE</th>\n",
       "      <th>CRASH_YEAR</th>\n",
       "    </tr>\n",
       "  </thead>\n",
       "  <tbody>\n",
       "    <tr>\n",
       "      <th>0</th>\n",
       "      <td>2019-03-25</td>\n",
       "      <td>30</td>\n",
       "      <td>TRAFFIC SIGNAL</td>\n",
       "      <td>FUNCTIONING PROPERLY</td>\n",
       "      <td>CLEAR</td>\n",
       "      <td>DAYLIGHT</td>\n",
       "      <td>TURNING</td>\n",
       "      <td>ONE-WAY</td>\n",
       "      <td>STRAIGHT AND LEVEL</td>\n",
       "      <td>DRY</td>\n",
       "      <td>...</td>\n",
       "      <td>W</td>\n",
       "      <td>RANDOLPH ST</td>\n",
       "      <td>REPORTED, NOT EVIDENT</td>\n",
       "      <td>1.0</td>\n",
       "      <td>14</td>\n",
       "      <td>2</td>\n",
       "      <td>3</td>\n",
       "      <td>41.884547</td>\n",
       "      <td>-87.641201</td>\n",
       "      <td>2019</td>\n",
       "    </tr>\n",
       "    <tr>\n",
       "      <th>1</th>\n",
       "      <td>2018-09-05</td>\n",
       "      <td>30</td>\n",
       "      <td>NO CONTROLS</td>\n",
       "      <td>NO CONTROLS</td>\n",
       "      <td>CLEAR</td>\n",
       "      <td>DAYLIGHT</td>\n",
       "      <td>ANGLE</td>\n",
       "      <td>NOT DIVIDED</td>\n",
       "      <td>STRAIGHT AND LEVEL</td>\n",
       "      <td>DRY</td>\n",
       "      <td>...</td>\n",
       "      <td>N</td>\n",
       "      <td>ELSTON AVE</td>\n",
       "      <td>NO INDICATION OF INJURY</td>\n",
       "      <td>0.0</td>\n",
       "      <td>8</td>\n",
       "      <td>4</td>\n",
       "      <td>9</td>\n",
       "      <td>41.968562</td>\n",
       "      <td>-87.740659</td>\n",
       "      <td>2018</td>\n",
       "    </tr>\n",
       "    <tr>\n",
       "      <th>2</th>\n",
       "      <td>2022-07-15</td>\n",
       "      <td>30</td>\n",
       "      <td>UNKNOWN</td>\n",
       "      <td>UNKNOWN</td>\n",
       "      <td>CLEAR</td>\n",
       "      <td>DARKNESS, LIGHTED ROAD</td>\n",
       "      <td>ANGLE</td>\n",
       "      <td>NOT DIVIDED</td>\n",
       "      <td>STRAIGHT AND LEVEL</td>\n",
       "      <td>DRY</td>\n",
       "      <td>...</td>\n",
       "      <td>N</td>\n",
       "      <td>CENTRAL PARK AVE</td>\n",
       "      <td>NO INDICATION OF INJURY</td>\n",
       "      <td>0.0</td>\n",
       "      <td>0</td>\n",
       "      <td>6</td>\n",
       "      <td>7</td>\n",
       "      <td>41.886336</td>\n",
       "      <td>-87.716203</td>\n",
       "      <td>2022</td>\n",
       "    </tr>\n",
       "    <tr>\n",
       "      <th>3</th>\n",
       "      <td>2022-07-15</td>\n",
       "      <td>30</td>\n",
       "      <td>TRAFFIC SIGNAL</td>\n",
       "      <td>FUNCTIONING PROPERLY</td>\n",
       "      <td>CLEAR</td>\n",
       "      <td>DAYLIGHT</td>\n",
       "      <td>REAR END</td>\n",
       "      <td>NOT DIVIDED</td>\n",
       "      <td>STRAIGHT AND LEVEL</td>\n",
       "      <td>DRY</td>\n",
       "      <td>...</td>\n",
       "      <td>N</td>\n",
       "      <td>ASHLAND AVE</td>\n",
       "      <td>NO INDICATION OF INJURY</td>\n",
       "      <td>0.0</td>\n",
       "      <td>18</td>\n",
       "      <td>6</td>\n",
       "      <td>7</td>\n",
       "      <td>41.925111</td>\n",
       "      <td>-87.667997</td>\n",
       "      <td>2022</td>\n",
       "    </tr>\n",
       "    <tr>\n",
       "      <th>4</th>\n",
       "      <td>2018-06-03</td>\n",
       "      <td>30</td>\n",
       "      <td>NO CONTROLS</td>\n",
       "      <td>NO CONTROLS</td>\n",
       "      <td>CLEAR</td>\n",
       "      <td>UNKNOWN</td>\n",
       "      <td>PARKED MOTOR VEHICLE</td>\n",
       "      <td>ONE-WAY</td>\n",
       "      <td>STRAIGHT AND LEVEL</td>\n",
       "      <td>DRY</td>\n",
       "      <td>...</td>\n",
       "      <td>N</td>\n",
       "      <td>KEELER AVE</td>\n",
       "      <td>NO INDICATION OF INJURY</td>\n",
       "      <td>0.0</td>\n",
       "      <td>17</td>\n",
       "      <td>1</td>\n",
       "      <td>6</td>\n",
       "      <td>41.910758</td>\n",
       "      <td>-87.731389</td>\n",
       "      <td>2018</td>\n",
       "    </tr>\n",
       "  </tbody>\n",
       "</table>\n",
       "<p>5 rows × 25 columns</p>\n",
       "</div>"
      ],
      "text/plain": [
       "   CRASH_DATE  POSTED_SPEED_LIMIT TRAFFIC_CONTROL_DEVICE  \\\n",
       "0  2019-03-25                  30         TRAFFIC SIGNAL   \n",
       "1  2018-09-05                  30            NO CONTROLS   \n",
       "2  2022-07-15                  30                UNKNOWN   \n",
       "3  2022-07-15                  30         TRAFFIC SIGNAL   \n",
       "4  2018-06-03                  30            NO CONTROLS   \n",
       "\n",
       "       DEVICE_CONDITION WEATHER_CONDITION      LIGHTING_CONDITION  \\\n",
       "0  FUNCTIONING PROPERLY             CLEAR                DAYLIGHT   \n",
       "1           NO CONTROLS             CLEAR                DAYLIGHT   \n",
       "2               UNKNOWN             CLEAR  DARKNESS, LIGHTED ROAD   \n",
       "3  FUNCTIONING PROPERLY             CLEAR                DAYLIGHT   \n",
       "4           NO CONTROLS             CLEAR                 UNKNOWN   \n",
       "\n",
       "       FIRST_CRASH_TYPE TRAFFICWAY_TYPE           ALIGNMENT  \\\n",
       "0               TURNING         ONE-WAY  STRAIGHT AND LEVEL   \n",
       "1                 ANGLE     NOT DIVIDED  STRAIGHT AND LEVEL   \n",
       "2                 ANGLE     NOT DIVIDED  STRAIGHT AND LEVEL   \n",
       "3              REAR END     NOT DIVIDED  STRAIGHT AND LEVEL   \n",
       "4  PARKED MOTOR VEHICLE         ONE-WAY  STRAIGHT AND LEVEL   \n",
       "\n",
       "  ROADWAY_SURFACE_COND  ... STREET_DIRECTION       STREET_NAME  \\\n",
       "0                  DRY  ...                W       RANDOLPH ST   \n",
       "1                  DRY  ...                N        ELSTON AVE   \n",
       "2                  DRY  ...                N  CENTRAL PARK AVE   \n",
       "3                  DRY  ...                N       ASHLAND AVE   \n",
       "4                  DRY  ...                N        KEELER AVE   \n",
       "\n",
       "        MOST_SEVERE_INJURY INJURIES_TOTAL  CRASH_HOUR CRASH_DAY_OF_WEEK  \\\n",
       "0    REPORTED, NOT EVIDENT            1.0          14                 2   \n",
       "1  NO INDICATION OF INJURY            0.0           8                 4   \n",
       "2  NO INDICATION OF INJURY            0.0           0                 6   \n",
       "3  NO INDICATION OF INJURY            0.0          18                 6   \n",
       "4  NO INDICATION OF INJURY            0.0          17                 1   \n",
       "\n",
       "  CRASH_MONTH   LATITUDE  LONGITUDE  CRASH_YEAR  \n",
       "0           3  41.884547 -87.641201        2019  \n",
       "1           9  41.968562 -87.740659        2018  \n",
       "2           7  41.886336 -87.716203        2022  \n",
       "3           7  41.925111 -87.667997        2022  \n",
       "4           6  41.910758 -87.731389        2018  \n",
       "\n",
       "[5 rows x 25 columns]"
      ]
     },
     "execution_count": 2,
     "metadata": {},
     "output_type": "execute_result"
    }
   ],
   "source": [
    "df = pd.read_csv(r\"C:\\Users\\matth\\0_BDMP\\BDMP\\0_BDMP\\matthews_really_final_cleaned.csv\")\n",
    "df.head()"
   ]
  },
  {
   "cell_type": "code",
   "execution_count": 3,
   "id": "98781a54",
   "metadata": {},
   "outputs": [
    {
     "name": "stdout",
     "output_type": "stream",
     "text": [
      "<class 'pandas.core.frame.DataFrame'>\n",
      "RangeIndex: 732569 entries, 0 to 732568\n",
      "Data columns (total 25 columns):\n",
      " #   Column                   Non-Null Count   Dtype  \n",
      "---  ------                   --------------   -----  \n",
      " 0   CRASH_DATE               732569 non-null  object \n",
      " 1   POSTED_SPEED_LIMIT       732569 non-null  int64  \n",
      " 2   TRAFFIC_CONTROL_DEVICE   732569 non-null  object \n",
      " 3   DEVICE_CONDITION         732569 non-null  object \n",
      " 4   WEATHER_CONDITION        732569 non-null  object \n",
      " 5   LIGHTING_CONDITION       732569 non-null  object \n",
      " 6   FIRST_CRASH_TYPE         732569 non-null  object \n",
      " 7   TRAFFICWAY_TYPE          732569 non-null  object \n",
      " 8   ALIGNMENT                732569 non-null  object \n",
      " 9   ROADWAY_SURFACE_COND     732569 non-null  object \n",
      " 10  ROAD_DEFECT              732569 non-null  object \n",
      " 11  CRASH_TYPE               732569 non-null  object \n",
      " 12  DAMAGE                   732569 non-null  object \n",
      " 13  PRIM_CONTRIBUTORY_CAUSE  732569 non-null  object \n",
      " 14  STREET_NO                732569 non-null  int64  \n",
      " 15  STREET_DIRECTION         732569 non-null  object \n",
      " 16  STREET_NAME              732569 non-null  object \n",
      " 17  MOST_SEVERE_INJURY       732569 non-null  object \n",
      " 18  INJURIES_TOTAL           732569 non-null  float64\n",
      " 19  CRASH_HOUR               732569 non-null  int64  \n",
      " 20  CRASH_DAY_OF_WEEK        732569 non-null  int64  \n",
      " 21  CRASH_MONTH              732569 non-null  int64  \n",
      " 22  LATITUDE                 732569 non-null  float64\n",
      " 23  LONGITUDE                732569 non-null  float64\n",
      " 24  CRASH_YEAR               732569 non-null  int64  \n",
      "dtypes: float64(3), int64(6), object(16)\n",
      "memory usage: 139.7+ MB\n"
     ]
    }
   ],
   "source": [
    "df.info()"
   ]
  },
  {
   "cell_type": "markdown",
   "id": "e220a6f0",
   "metadata": {},
   "source": [
    "## Revising the Target Variable Distribution"
   ]
  },
  {
   "cell_type": "code",
   "execution_count": 4,
   "id": "427c3488",
   "metadata": {},
   "outputs": [
    {
     "data": {
      "image/png": "[encoded data removed]",
      "text/plain": [
       "<Figure size 576x432 with 1 Axes>"
      ]
     },
     "metadata": {
      "needs_background": "light"
     },
     "output_type": "display_data"
    }
   ],
   "source": [
    "import pandas as pd\n",
    "import seaborn as sns\n",
    "import matplotlib.pyplot as plt\n",
    "\n",
    "# Assuming your DataFrame is named df\n",
    "\n",
    "# Count the occurrences of each unique value in the 'MOST_SEVERE_INJURY' column\n",
    "severity_counts = df['MOST_SEVERE_INJURY'].value_counts()\n",
    "\n",
    "# Calculate the percentage of each unique value in the 'MOST_SEVERE_INJURY' column\n",
    "severity_percentage = df['MOST_SEVERE_INJURY'].value_counts(normalize=True) * 100\n",
    "\n",
    "# Combine the counts and percentages into a DataFrame for visualization\n",
    "severity_distribution = pd.DataFrame({\n",
    "    'Count': severity_counts,\n",
    "    'Percentage': severity_percentage\n",
    "})\n",
    "\n",
    "# Plot the bar plot\n",
    "plt.figure(figsize=(8, 6))\n",
    "ax = sns.barplot(x=severity_distribution.index, y='Count', data=severity_distribution)\n",
    "plt.xticks(rotation=45, ha='right')\n",
    "plt.xlabel('MOST_SEVERE_INJURY')\n",
    "plt.ylabel('Count')\n",
    "plt.title('Distribution of MOST_SEVERE_INJURY')\n",
    "\n",
    "# Adding data labels above each bar\n",
    "for index, value in enumerate(severity_distribution['Count']):\n",
    "    plt.text(index, value, str(value), ha='center', va='bottom', fontweight='bold')\n",
    "\n",
    "plt.tight_layout()\n",
    "plt.show()\n"
   ]
  },
  {
   "cell_type": "markdown",
   "id": "7e83dc4b",
   "metadata": {},
   "source": [
    "# Feature Engineering"
   ]
  },
  {
   "cell_type": "code",
   "execution_count": 5,
   "id": "0ad7d27e",
   "metadata": {
    "scrolled": true
   },
   "outputs": [
    {
     "data": {
      "text/plain": [
       "(732569, 25)"
      ]
     },
     "execution_count": 5,
     "metadata": {},
     "output_type": "execute_result"
    }
   ],
   "source": [
    "df.shape"
   ]
  },
  {
   "cell_type": "code",
   "execution_count": 6,
   "id": "aacc0259",
   "metadata": {},
   "outputs": [],
   "source": [
    "# Columns related to environmental conditions (potential predictors)\n",
    "feature_names = [\n",
    "    'POSTED_SPEED_LIMIT',\n",
    "    'TRAFFIC_CONTROL_DEVICE',\n",
    "    'DEVICE_CONDITION',\n",
    "    'WEATHER_CONDITION',\n",
    "    'LIGHTING_CONDITION',\n",
    "    'FIRST_CRASH_TYPE',\n",
    "    'TRAFFICWAY_TYPE',\n",
    "    'ALIGNMENT',\n",
    "    'ROADWAY_SURFACE_COND',\n",
    "    'ROAD_DEFECT',\n",
    "    'DAMAGE',\n",
    "    'PRIM_CONTRIBUTORY_CAUSE',\n",
    "    'CRASH_HOUR',\n",
    "    'CRASH_DAY_OF_WEEK',\n",
    "    'CRASH_MONTH',\n",
    "    'LATITUDE',\n",
    "    'LONGITUDE',\n",
    "    'CRASH_YEAR'\n",
    "]\n",
    "\n",
    "# Target feature (severity of incidents)\n",
    "target_feature = 'MOST_SEVERE_INJURY'\n"
   ]
  },
  {
   "cell_type": "code",
   "execution_count": 7,
   "id": "d6f79072",
   "metadata": {
    "scrolled": true
   },
   "outputs": [],
   "source": [
    "# Use one-hot encoding to convert categorical columns into numerical representations\n",
    "encoded_df = pd.get_dummies(df, columns=[\n",
    "    'TRAFFIC_CONTROL_DEVICE', 'DEVICE_CONDITION', 'WEATHER_CONDITION',\n",
    "    'LIGHTING_CONDITION', 'FIRST_CRASH_TYPE', 'TRAFFICWAY_TYPE', 'ALIGNMENT',\n",
    "    'ROADWAY_SURFACE_COND', 'ROAD_DEFECT', 'DAMAGE', 'PRIM_CONTRIBUTORY_CAUSE'\n",
    "])\n",
    "\n",
    "# Make sure the column names match the feature names after one-hot encoding\n",
    "encoded_feature_names = encoded_df.columns.tolist()\n",
    "\n",
    "# Select only the features in the original feature_names list\n",
    "selected_encoded_features = [feature for feature in encoded_feature_names if feature in feature_names]\n",
    "\n",
    "# Select the features and target variable\n",
    "X = encoded_df[selected_encoded_features]\n",
    "y = df[target_feature]\n",
    "\n",
    "\n",
    "# Perform the train-test split\n",
    "X_train, X_test, y_train, y_test = train_test_split(X, y, test_size=0.2, random_state=42)\n",
    "\n",
    "# Drop any non-numeric or non-essential columns before scaling\n",
    "X_train_numeric = X_train.select_dtypes(include=['float64', 'int64'])\n",
    "X_test_numeric = X_test.select_dtypes(include=['float64', 'int64'])\n",
    "\n",
    "# Feature Scaling\n",
    "scaler = StandardScaler()\n",
    "X_train_scaled = scaler.fit_transform(X_train_numeric)\n",
    "X_test_scaled = scaler.transform(X_test_numeric)\n",
    "\n"
   ]
  },
  {
   "cell_type": "markdown",
   "id": "9c6fbb6f",
   "metadata": {},
   "source": [
    "# Handling Imbalanced Target Variable Classes"
   ]
  },
  {
   "cell_type": "code",
   "execution_count": 8,
   "id": "f15841a0",
   "metadata": {
    "scrolled": false
   },
   "outputs": [],
   "source": [
    "from sklearn.preprocessing import LabelEncoder\n",
    "# Handling Imbalanced Classes with RandomOverSampler\n",
    "ros = RandomOverSampler(random_state=42)\n",
    "X_resampled, y_resampled = ros.fit_resample(X_train_scaled, y_train)\n",
    "\n",
    "\n",
    "# Convert the target feature to numeric format using label encoding for training data\n",
    "label_encoder = LabelEncoder()\n",
    "y_train_numeric = label_encoder.fit_transform(y_train)\n",
    "y_resampled_numeric = label_encoder.transform(y_resampled)\n",
    "\n",
    "# Count the occurrences of each injury severity category in the original dataset\n",
    "injury_severity_counts_original = pd.Series(y_train_numeric).value_counts()\n",
    "\n",
    "# Count the occurrences of each injury severity category in the resampled dataset\n",
    "injury_severity_counts_resampled = pd.Series(y_resampled_numeric).value_counts()\n",
    "\n",
    "# Calculate the percentage of each injury severity category in the original dataset\n",
    "injury_severity_percentage_original = (injury_severity_counts_original / len(y_train_numeric)) * 100\n",
    "\n",
    "# Calculate the percentage of each injury severity category in the resampled dataset\n",
    "injury_severity_percentage_resampled = (injury_severity_counts_resampled / len(y_resampled_numeric)) * 100\n"
   ]
  },
  {
   "cell_type": "code",
   "execution_count": 9,
   "id": "63c5a74b",
   "metadata": {},
   "outputs": [
    {
     "name": "stdout",
     "output_type": "stream",
     "text": [
      "Training Data:\n",
      "--------------\n",
      "X and y shapes:\n",
      "(2533735, 7) (2533735,) \n",
      "\n",
      "Target Ratio (Original):\n",
      "2    86.467482\n",
      "3     7.633243\n",
      "4     4.086818\n",
      "1     1.703082\n",
      "0     0.109375\n",
      "dtype: float64 \n",
      "\n",
      "Target Ratio (Resampled):\n",
      "2    20.0\n",
      "3    20.0\n",
      "4    20.0\n",
      "1    20.0\n",
      "0    20.0\n",
      "dtype: float64 \n",
      "\n"
     ]
    }
   ],
   "source": [
    "# Display the results for training data\n",
    "print('Training Data:')\n",
    "print('--------------')\n",
    "print('X and y shapes:')\n",
    "print(X_resampled.shape, y_resampled.shape, '\\n')\n",
    "print('Target Ratio (Original):')\n",
    "print(injury_severity_percentage_original, '\\n')\n",
    "print('Target Ratio (Resampled):')\n",
    "print(injury_severity_percentage_resampled, '\\n')\n"
   ]
  },
  {
   "cell_type": "code",
   "execution_count": 10,
   "id": "a3d85eee",
   "metadata": {},
   "outputs": [],
   "source": [
    "\n",
    "# Handling Imbalanced Classes with RandomOverSampler for Testing Data\n",
    "ros = RandomOverSampler(random_state=42)\n",
    "X_resampled_test, y_resampled_test = ros.fit_resample(X_test_scaled, y_test)\n",
    "\n",
    "# Convert the target feature to numeric format using label encoding for testing data\n",
    "y_test_numeric = label_encoder.transform(y_test)\n",
    "y_resampled_test_numeric = label_encoder.transform(y_resampled_test)\n",
    "\n",
    "# Count the occurrences of each injury severity category in the original testing dataset\n",
    "injury_severity_counts_original_test = pd.Series(y_test_numeric).value_counts()\n",
    "\n",
    "# Count the occurrences of each injury severity category in the resampled testing dataset\n",
    "injury_severity_counts_resampled_test = pd.Series(y_resampled_test_numeric).value_counts()\n",
    "\n",
    "# Calculate the percentage of each injury severity category in the original testing dataset\n",
    "injury_severity_percentage_original_test = (injury_severity_counts_original_test / len(y_test_numeric)) * 100\n",
    "\n",
    "# Calculate the percentage of each injury severity category in the resampled testing dataset\n",
    "injury_severity_percentage_resampled_test = (injury_severity_counts_resampled_test / len(y_resampled_test_numeric)) * 100\n"
   ]
  },
  {
   "cell_type": "code",
   "execution_count": 11,
   "id": "a96ac312",
   "metadata": {},
   "outputs": [
    {
     "name": "stdout",
     "output_type": "stream",
     "text": [
      "Testing Data:\n",
      "--------------\n",
      "X and y shapes:\n",
      "(631210, 7) (631210,) \n",
      "\n",
      "Target Ratio (Original) - Testing Data:\n",
      "2    86.163780\n",
      "3     7.875015\n",
      "4     4.127933\n",
      "1     1.723385\n",
      "0     0.109887\n",
      "dtype: float64 \n",
      "\n",
      "Target Ratio (Resampled) - Testing Data:\n",
      "2    20.0\n",
      "3    20.0\n",
      "4    20.0\n",
      "0    20.0\n",
      "1    20.0\n",
      "dtype: float64 \n",
      "\n"
     ]
    }
   ],
   "source": [
    "# Display the results for testing data\n",
    "print('Testing Data:')\n",
    "print('--------------')\n",
    "print('X and y shapes:')\n",
    "print(X_resampled_test.shape, y_resampled_test.shape, '\\n')\n",
    "print('Target Ratio (Original) - Testing Data:')\n",
    "print(injury_severity_percentage_original_test, '\\n')\n",
    "print('Target Ratio (Resampled) - Testing Data:')\n",
    "print(injury_severity_percentage_resampled_test, '\\n')"
   ]
  },
  {
   "cell_type": "markdown",
   "id": "93f0674c",
   "metadata": {},
   "source": [
    "## Checking the features used"
   ]
  },
  {
   "cell_type": "code",
   "execution_count": 12,
   "id": "d18588e0",
   "metadata": {},
   "outputs": [
    {
     "data": {
      "image/png": "[encoded data removed]",
      "text/plain": [
       "<Figure size 864x576 with 1 Axes>"
      ]
     },
     "metadata": {
      "needs_background": "light"
     },
     "output_type": "display_data"
    }
   ],
   "source": [
    "import matplotlib.pyplot as plt\n",
    "\n",
    "# Create a bar plot to visualize the features in the training dataset\n",
    "plt.figure(figsize=(12, 8))\n",
    "plt.barh(range(len(X_train.columns)), [1] * len(X_train.columns), align='center', color='skyblue')\n",
    "plt.yticks(range(len(X_train.columns)), X_train.columns)\n",
    "plt.xlabel(\"Features in Training Data\")\n",
    "plt.title(\"Features in Training Data\")\n",
    "plt.gca().invert_yaxis()\n",
    "plt.show()\n"
   ]
  },
  {
   "cell_type": "markdown",
   "id": "fb66b135",
   "metadata": {},
   "source": [
    "# Temporary"
   ]
  },
  {
   "cell_type": "code",
   "execution_count": 6,
   "id": "37792695",
   "metadata": {},
   "outputs": [
    {
     "data": {
      "image/png": "[encoded data removed]",
      "text/plain": [
       "<Figure size 576x432 with 1 Axes>"
      ]
     },
     "metadata": {
      "needs_background": "light"
     },
     "output_type": "display_data"
    }
   ],
   "source": [
    "import pandas as pd\n",
    "from sklearn.model_selection import train_test_split\n",
    "from sklearn.preprocessing import StandardScaler, OneHotEncoder\n",
    "from sklearn.preprocessing import LabelEncoder\n",
    "from sklearn.utils import resample\n",
    "import matplotlib.pyplot as plt\n",
    "\n",
    "# Columns related to environmental conditions (potential predictors)\n",
    "get_feature_names_out = [\n",
    "    'POSTED_SPEED_LIMIT', 'TRAFFIC_CONTROL_DEVICE', 'DEVICE_CONDITION',\n",
    "    'WEATHER_CONDITION', 'LIGHTING_CONDITION', 'FIRST_CRASH_TYPE',\n",
    "    'TRAFFICWAY_TYPE', 'ALIGNMENT', 'ROADWAY_SURFACE_COND', 'ROAD_DEFECT',\n",
    "    'DAMAGE', 'PRIM_CONTRIBUTORY_CAUSE', 'CRASH_HOUR', 'CRASH_DAY_OF_WEEK',\n",
    "    'CRASH_MONTH', 'LATITUDE', 'LONGITUDE', 'CRASH_YEAR'\n",
    "]\n",
    "\n",
    "# Target feature (severity of incidents)\n",
    "target_feature = 'MOST_SEVERE_INJURY'\n",
    "\n",
    "# Load your dataset (assuming you have it loaded as 'df')\n",
    "\n",
    "# Select the features and target variable\n",
    "X = df[get_feature_names_out]\n",
    "y = df[target_feature]\n",
    "\n",
    "# Split numerical and categorical features\n",
    "numeric_features = X.select_dtypes(include=['float64', 'int64']).columns\n",
    "categorical_features = X.select_dtypes(include=['object']).columns\n",
    "\n",
    "# One-hot encode categorical features\n",
    "encoder = OneHotEncoder(drop='first', sparse=False)\n",
    "X_categorical_encoded = encoder.fit_transform(X[categorical_features])\n",
    "\n",
    "# Combine encoded categorical features with numerical features\n",
    "X_encoded = pd.concat([X[numeric_features], pd.DataFrame(X_categorical_encoded, columns=encoder.get_feature_names_out(categorical_features))], axis=1)\n",
    "\n",
    "# Perform the train-test split\n",
    "X_train, X_test, y_train, y_test = train_test_split(X_encoded, y, test_size=0.2, random_state=42)\n",
    "\n",
    "# Perform data balancing using RandomOverSampler\n",
    "ros = RandomOverSampler(random_state=42)\n",
    "X_resampled, y_resampled = ros.fit_resample(X_train, y_train)\n",
    "\n",
    "# Display class distribution for resampled data\n",
    "class_distribution_resampled = y_resampled.value_counts()\n",
    "plt.figure(figsize=(8, 6))\n",
    "plt.bar(class_distribution_resampled.index, class_distribution_resampled.values, color='blue')\n",
    "plt.xlabel('Severity of Incidents')\n",
    "plt.ylabel('Number of Instances')\n",
    "plt.title('Class Distribution (Resampled Data)')\n",
    "plt.xticks(rotation=45)\n",
    "plt.show()\n"
   ]
  },
  {
   "cell_type": "code",
   "execution_count": 11,
   "id": "749d5ac0",
   "metadata": {
    "scrolled": true
   },
   "outputs": [
    {
     "data": {
      "image/png": "[encoded data removed]",
      "text/plain": [
       "<Figure size 864x576 with 1 Axes>"
      ]
     },
     "metadata": {
      "needs_background": "light"
     },
     "output_type": "display_data"
    },
    {
     "name": "stdout",
     "output_type": "stream",
     "text": [
      "Unique Features in X_train:\n",
      "POSTED_SPEED_LIMIT\n",
      "CRASH_HOUR\n",
      "CRASH_DAY_OF_WEEK\n",
      "CRASH_MONTH\n",
      "LATITUDE\n",
      "LONGITUDE\n",
      "CRASH_YEAR\n",
      "TRAFFIC_CONTROL_DEVICE_DELINEATORS\n",
      "TRAFFIC_CONTROL_DEVICE_FLASHING CONTROL SIGNAL\n",
      "TRAFFIC_CONTROL_DEVICE_LANE USE MARKING\n",
      "TRAFFIC_CONTROL_DEVICE_NO CONTROLS\n",
      "TRAFFIC_CONTROL_DEVICE_NO PASSING\n",
      "TRAFFIC_CONTROL_DEVICE_OTHER\n",
      "TRAFFIC_CONTROL_DEVICE_OTHER RAILROAD CROSSING\n",
      "TRAFFIC_CONTROL_DEVICE_OTHER REG. SIGN\n",
      "TRAFFIC_CONTROL_DEVICE_OTHER WARNING SIGN\n",
      "TRAFFIC_CONTROL_DEVICE_PEDESTRIAN CROSSING SIGN\n",
      "TRAFFIC_CONTROL_DEVICE_POLICE/FLAGMAN\n",
      "TRAFFIC_CONTROL_DEVICE_RAILROAD CROSSING GATE\n",
      "TRAFFIC_CONTROL_DEVICE_RR CROSSING SIGN\n",
      "TRAFFIC_CONTROL_DEVICE_SCHOOL ZONE\n",
      "TRAFFIC_CONTROL_DEVICE_STOP SIGN/FLASHER\n",
      "TRAFFIC_CONTROL_DEVICE_TRAFFIC SIGNAL\n",
      "TRAFFIC_CONTROL_DEVICE_UNKNOWN\n",
      "TRAFFIC_CONTROL_DEVICE_YIELD\n",
      "DEVICE_CONDITION_FUNCTIONING PROPERLY\n",
      "DEVICE_CONDITION_MISSING\n",
      "DEVICE_CONDITION_NO CONTROLS\n",
      "DEVICE_CONDITION_NOT FUNCTIONING\n",
      "DEVICE_CONDITION_OTHER\n",
      "DEVICE_CONDITION_UNKNOWN\n",
      "DEVICE_CONDITION_WORN REFLECTIVE MATERIAL\n",
      "WEATHER_CONDITION_BLOWING SNOW\n",
      "WEATHER_CONDITION_CLEAR\n",
      "WEATHER_CONDITION_CLOUDY/OVERCAST\n",
      "WEATHER_CONDITION_FOG/SMOKE/HAZE\n",
      "WEATHER_CONDITION_FREEZING RAIN/DRIZZLE\n",
      "WEATHER_CONDITION_OTHER\n",
      "WEATHER_CONDITION_RAIN\n",
      "WEATHER_CONDITION_SEVERE CROSS WIND GATE\n",
      "WEATHER_CONDITION_SLEET/HAIL\n",
      "WEATHER_CONDITION_SNOW\n",
      "WEATHER_CONDITION_UNKNOWN\n",
      "LIGHTING_CONDITION_DARKNESS, LIGHTED ROAD\n",
      "LIGHTING_CONDITION_DAWN\n",
      "LIGHTING_CONDITION_DAYLIGHT\n",
      "LIGHTING_CONDITION_DUSK\n",
      "LIGHTING_CONDITION_UNKNOWN\n",
      "FIRST_CRASH_TYPE_ANIMAL\n",
      "FIRST_CRASH_TYPE_FIXED OBJECT\n",
      "FIRST_CRASH_TYPE_HEAD ON\n",
      "FIRST_CRASH_TYPE_OTHER NONCOLLISION\n",
      "FIRST_CRASH_TYPE_OTHER OBJECT\n",
      "FIRST_CRASH_TYPE_OVERTURNED\n",
      "FIRST_CRASH_TYPE_PARKED MOTOR VEHICLE\n",
      "FIRST_CRASH_TYPE_PEDALCYCLIST\n",
      "FIRST_CRASH_TYPE_PEDESTRIAN\n",
      "FIRST_CRASH_TYPE_REAR END\n",
      "FIRST_CRASH_TYPE_REAR TO FRONT\n",
      "FIRST_CRASH_TYPE_REAR TO REAR\n",
      "FIRST_CRASH_TYPE_REAR TO SIDE\n",
      "FIRST_CRASH_TYPE_SIDESWIPE OPPOSITE DIRECTION\n",
      "FIRST_CRASH_TYPE_SIDESWIPE SAME DIRECTION\n",
      "FIRST_CRASH_TYPE_TRAIN\n",
      "FIRST_CRASH_TYPE_TURNING\n",
      "TRAFFICWAY_TYPE_CENTER TURN LANE\n",
      "TRAFFICWAY_TYPE_DIVIDED - W/MEDIAN (NOT RAISED)\n",
      "TRAFFICWAY_TYPE_DIVIDED - W/MEDIAN BARRIER\n",
      "TRAFFICWAY_TYPE_DRIVEWAY\n",
      "TRAFFICWAY_TYPE_FIVE POINT, OR MORE\n",
      "TRAFFICWAY_TYPE_FOUR WAY\n",
      "TRAFFICWAY_TYPE_L-INTERSECTION\n",
      "TRAFFICWAY_TYPE_NOT DIVIDED\n",
      "TRAFFICWAY_TYPE_NOT REPORTED\n",
      "TRAFFICWAY_TYPE_ONE-WAY\n",
      "TRAFFICWAY_TYPE_OTHER\n",
      "TRAFFICWAY_TYPE_PARKING LOT\n",
      "TRAFFICWAY_TYPE_RAMP\n",
      "TRAFFICWAY_TYPE_ROUNDABOUT\n",
      "TRAFFICWAY_TYPE_T-INTERSECTION\n",
      "TRAFFICWAY_TYPE_TRAFFIC ROUTE\n",
      "TRAFFICWAY_TYPE_UNKNOWN\n",
      "TRAFFICWAY_TYPE_UNKNOWN INTERSECTION TYPE\n",
      "TRAFFICWAY_TYPE_Y-INTERSECTION\n",
      "ALIGNMENT_CURVE ON HILLCREST\n",
      "ALIGNMENT_CURVE, LEVEL\n",
      "ALIGNMENT_STRAIGHT AND LEVEL\n",
      "ALIGNMENT_STRAIGHT ON GRADE\n",
      "ALIGNMENT_STRAIGHT ON HILLCREST\n",
      "ROADWAY_SURFACE_COND_ICE\n",
      "ROADWAY_SURFACE_COND_OTHER\n",
      "ROADWAY_SURFACE_COND_SAND, MUD, DIRT\n",
      "ROADWAY_SURFACE_COND_SNOW OR SLUSH\n",
      "ROADWAY_SURFACE_COND_UNKNOWN\n",
      "ROADWAY_SURFACE_COND_WET\n",
      "ROAD_DEFECT_NO DEFECTS\n",
      "ROAD_DEFECT_OTHER\n",
      "ROAD_DEFECT_RUT, HOLES\n",
      "ROAD_DEFECT_SHOULDER DEFECT\n",
      "ROAD_DEFECT_UNKNOWN\n",
      "ROAD_DEFECT_WORN SURFACE\n",
      "DAMAGE_$501 - $1,500\n",
      "DAMAGE_OVER $1,500\n",
      "PRIM_CONTRIBUTORY_CAUSE_BICYCLE ADVANCING LEGALLY ON RED LIGHT\n",
      "PRIM_CONTRIBUTORY_CAUSE_CELL PHONE USE OTHER THAN TEXTING\n",
      "PRIM_CONTRIBUTORY_CAUSE_DISREGARDING OTHER TRAFFIC SIGNS\n",
      "PRIM_CONTRIBUTORY_CAUSE_DISREGARDING ROAD MARKINGS\n",
      "PRIM_CONTRIBUTORY_CAUSE_DISREGARDING STOP SIGN\n",
      "PRIM_CONTRIBUTORY_CAUSE_DISREGARDING TRAFFIC SIGNALS\n",
      "PRIM_CONTRIBUTORY_CAUSE_DISREGARDING YIELD SIGN\n",
      "PRIM_CONTRIBUTORY_CAUSE_DISTRACTION - FROM INSIDE VEHICLE\n",
      "PRIM_CONTRIBUTORY_CAUSE_DISTRACTION - FROM OUTSIDE VEHICLE\n",
      "PRIM_CONTRIBUTORY_CAUSE_DISTRACTION - OTHER ELECTRONIC DEVICE (NAVIGATION DEVICE, DVD PLAYER, ETC.)\n",
      "PRIM_CONTRIBUTORY_CAUSE_DRIVING ON WRONG SIDE/WRONG WAY\n",
      "PRIM_CONTRIBUTORY_CAUSE_DRIVING SKILLS/KNOWLEDGE/EXPERIENCE\n",
      "PRIM_CONTRIBUTORY_CAUSE_EQUIPMENT - VEHICLE CONDITION\n",
      "PRIM_CONTRIBUTORY_CAUSE_EVASIVE ACTION DUE TO ANIMAL, OBJECT, NONMOTORIST\n",
      "PRIM_CONTRIBUTORY_CAUSE_EXCEEDING AUTHORIZED SPEED LIMIT\n",
      "PRIM_CONTRIBUTORY_CAUSE_EXCEEDING SAFE SPEED FOR CONDITIONS\n",
      "PRIM_CONTRIBUTORY_CAUSE_FAILING TO REDUCE SPEED TO AVOID CRASH\n",
      "PRIM_CONTRIBUTORY_CAUSE_FAILING TO YIELD RIGHT-OF-WAY\n",
      "PRIM_CONTRIBUTORY_CAUSE_FOLLOWING TOO CLOSELY\n",
      "PRIM_CONTRIBUTORY_CAUSE_HAD BEEN DRINKING (USE WHEN ARREST IS NOT MADE)\n",
      "PRIM_CONTRIBUTORY_CAUSE_IMPROPER BACKING\n",
      "PRIM_CONTRIBUTORY_CAUSE_IMPROPER LANE USAGE\n",
      "PRIM_CONTRIBUTORY_CAUSE_IMPROPER OVERTAKING/PASSING\n",
      "PRIM_CONTRIBUTORY_CAUSE_IMPROPER TURNING/NO SIGNAL\n",
      "PRIM_CONTRIBUTORY_CAUSE_MOTORCYCLE ADVANCING LEGALLY ON RED LIGHT\n",
      "PRIM_CONTRIBUTORY_CAUSE_NOT APPLICABLE\n",
      "PRIM_CONTRIBUTORY_CAUSE_OBSTRUCTED CROSSWALKS\n",
      "PRIM_CONTRIBUTORY_CAUSE_OPERATING VEHICLE IN ERRATIC, RECKLESS, CARELESS, NEGLIGENT OR AGGRESSIVE MANNER\n",
      "PRIM_CONTRIBUTORY_CAUSE_PASSING STOPPED SCHOOL BUS\n",
      "PRIM_CONTRIBUTORY_CAUSE_PHYSICAL CONDITION OF DRIVER\n",
      "PRIM_CONTRIBUTORY_CAUSE_RELATED TO BUS STOP\n",
      "PRIM_CONTRIBUTORY_CAUSE_ROAD CONSTRUCTION/MAINTENANCE\n",
      "PRIM_CONTRIBUTORY_CAUSE_ROAD ENGINEERING/SURFACE/MARKING DEFECTS\n",
      "PRIM_CONTRIBUTORY_CAUSE_TEXTING\n",
      "PRIM_CONTRIBUTORY_CAUSE_TURNING RIGHT ON RED\n",
      "PRIM_CONTRIBUTORY_CAUSE_UNABLE TO DETERMINE\n",
      "PRIM_CONTRIBUTORY_CAUSE_UNDER THE INFLUENCE OF ALCOHOL/DRUGS (USE WHEN ARREST IS EFFECTED)\n",
      "PRIM_CONTRIBUTORY_CAUSE_VISION OBSCURED (SIGNS, TREE LIMBS, BUILDINGS, ETC.)\n",
      "PRIM_CONTRIBUTORY_CAUSE_WEATHER\n"
     ]
    }
   ],
   "source": [
    "import matplotlib.pyplot as plt\n",
    "\n",
    "# Create a bar plot to visualize a subset of features in the training dataset\n",
    "subset_features = X_train.columns[:20]  # Change the number to display a different subset\n",
    "plt.figure(figsize=(12, 8))\n",
    "plt.barh(range(len(subset_features)), [1] * len(subset_features), align='center', color='skyblue')\n",
    "plt.yticks(range(len(subset_features)), subset_features)\n",
    "plt.xlabel(\"Features in Training Data\")\n",
    "plt.title(\"Subset of Features in Training Data\")\n",
    "plt.gca().invert_yaxis()\n",
    "plt.show()\n",
    "\n",
    "unique_features = X_train.columns.tolist()\n",
    "print(\"Unique Features in X_train:\")\n",
    "for feature in unique_features:\n",
    "    print(feature)\n"
   ]
  },
  {
   "cell_type": "markdown",
   "id": "b450dd5d",
   "metadata": {},
   "source": [
    "# Models"
   ]
  },
  {
   "cell_type": "markdown",
   "id": "9c82303e",
   "metadata": {},
   "source": [
    "## Logistic Regression"
   ]
  },
  {
   "cell_type": "code",
   "execution_count": null,
   "id": "38a68fa6",
   "metadata": {},
   "outputs": [],
   "source": [
    "from sklearn.linear_model import LogisticRegression\n",
    "from sklearn.metrics import accuracy_score\n",
    "from sklearn.preprocessing import StandardScaler\n",
    "\n",
    "# Initialize the logistic regression model\n",
    "logreg = LogisticRegression(random_state=42)\n",
    "\n",
    "# Fit the model on the resampled training data\n",
    "logreg.fit(X_resampled, y_resampled)\n",
    "\n",
    "# Scale the numeric features of the test data\n",
    "X_test_numeric = X_test.select_dtypes(include=['float64', 'int64'])\n",
    "scaler = StandardScaler()\n",
    "X_test_scaled_numeric = scaler.fit_transform(X_test_numeric)\n",
    "\n",
    "# Make predictions on the scaled test data\n",
    "logreg_predictions = logreg.predict(X_test_scaled_numeric)\n",
    "\n",
    "# Calculate accuracy\n",
    "logreg_accuracy = accuracy_score(y_test, logreg_predictions)\n",
    "\n",
    "print(\"Logistic Regression Accuracy:\", logreg_accuracy)\n"
   ]
  },
  {
   "cell_type": "markdown",
   "id": "6741d572",
   "metadata": {},
   "source": [
    "## KNN"
   ]
  },
  {
   "cell_type": "code",
   "execution_count": 37,
   "id": "ff820593",
   "metadata": {},
   "outputs": [
    {
     "name": "stderr",
     "output_type": "stream",
     "text": [
      "C:\\Users\\matth\\anaconda3\\lib\\site-packages\\sklearn\\neighbors\\_classification.py:228: FutureWarning: Unlike other reduction functions (e.g. `skew`, `kurtosis`), the default behavior of `mode` typically preserves the axis it acts along. In SciPy 1.11.0, this behavior will change: the default value of `keepdims` will become False, the `axis` over which the statistic is taken will be eliminated, and the value None will no longer be accepted. Set `keepdims` to True or False to avoid this warning.\n",
      "  mode, _ = stats.mode(_y[neigh_ind, k], axis=1)\n"
     ]
    },
    {
     "name": "stdout",
     "output_type": "stream",
     "text": [
      "K-Nearest Neighbors Results:\n",
      "Accuracy: 0.93\n",
      "Precision: 0.92\n",
      "Recall: 0.93\n",
      "F1 Score: 0.92\n"
     ]
    }
   ],
   "source": [
    "from sklearn.neighbors import KNeighborsClassifier\n",
    "from sklearn.metrics import accuracy_score, precision_score, recall_score, f1_score\n",
    "\n",
    "# Train a KNN model\n",
    "knn = KNeighborsClassifier(n_neighbors=5)  # You can adjust the number of neighbors\n",
    "knn.fit(X_train_scaled, y_train)\n",
    "knn_predictions = knn.predict(X_test_scaled)\n",
    "\n",
    "# Calculate evaluation metrics for KNN\n",
    "knn_accuracy = accuracy_score(y_test, knn_predictions)\n",
    "knn_precision = precision_score(y_test, knn_predictions, average='weighted')\n",
    "knn_recall = recall_score(y_test, knn_predictions, average='weighted')\n",
    "knn_f1 = f1_score(y_test, knn_predictions, average='weighted')\n",
    "\n",
    "print(\"K-Nearest Neighbors Results:\")\n",
    "print(f\"Accuracy: {knn_accuracy:.2f}\")\n",
    "print(f\"Precision: {knn_precision:.2f}\")\n",
    "print(f\"Recall: {knn_recall:.2f}\")\n",
    "print(f\"F1 Score: {knn_f1:.2f}\")\n"
   ]
  },
  {
   "cell_type": "code",
   "execution_count": null,
   "id": "4533dfc0",
   "metadata": {},
   "outputs": [],
   "source": []
  },
  {
   "cell_type": "markdown",
   "id": "730f6fb1",
   "metadata": {},
   "source": [
    "## Decision Tree"
   ]
  },
  {
   "cell_type": "code",
   "execution_count": 39,
   "id": "8ee7a511",
   "metadata": {},
   "outputs": [
    {
     "name": "stdout",
     "output_type": "stream",
     "text": [
      "Decision Tree Results:\n",
      "Accuracy: 0.92\n",
      "Precision: 0.92\n",
      "Recall: 0.92\n",
      "F1 Score: 0.92\n"
     ]
    }
   ],
   "source": [
    "from sklearn.tree import DecisionTreeClassifier\n",
    "from sklearn.metrics import accuracy_score, precision_score, recall_score, f1_score\n",
    "\n",
    "# Assuming you have already split and preprocessed your data, including scaling the features (X_train_scaled and X_test_scaled)\n",
    "# and obtaining the target variables (y_train and y_test).\n",
    "\n",
    "# Train a Decision Tree model\n",
    "dt = DecisionTreeClassifier(random_state=42)\n",
    "dt.fit(X_train_scaled, y_train)\n",
    "dt_predictions = dt.predict(X_test_scaled)\n",
    "\n",
    "# Calculate evaluation metrics for Decision Tree model\n",
    "dt_accuracy = accuracy_score(y_test, dt_predictions)\n",
    "dt_precision = precision_score(y_test, dt_predictions, average='weighted')\n",
    "dt_recall = recall_score(y_test, dt_predictions, average='weighted')\n",
    "dt_f1 = f1_score(y_test, dt_predictions, average='weighted')\n",
    "\n",
    "print(\"Decision Tree Results:\")\n",
    "print(f\"Accuracy: {dt_accuracy:.2f}\")\n",
    "print(f\"Precision: {dt_precision:.2f}\")\n",
    "print(f\"Recall: {dt_recall:.2f}\")\n",
    "print(f\"F1 Score: {dt_f1:.2f}\")\n"
   ]
  },
  {
   "cell_type": "code",
   "execution_count": null,
   "id": "3eece32e",
   "metadata": {},
   "outputs": [],
   "source": []
  },
  {
   "cell_type": "markdown",
   "id": "bafe1bd7",
   "metadata": {},
   "source": [
    "## Random Forest"
   ]
  },
  {
   "cell_type": "code",
   "execution_count": 20,
   "id": "1f5f6ffa",
   "metadata": {},
   "outputs": [
    {
     "name": "stdout",
     "output_type": "stream",
     "text": [
      "Random Forest Results:\n",
      "Accuracy: 0.94\n",
      "Precision: 0.93\n",
      "Recall: 0.94\n",
      "F1 Score: 0.93\n"
     ]
    }
   ],
   "source": [
    "from sklearn.ensemble import RandomForestClassifier\n",
    "from sklearn.metrics import accuracy_score, precision_score, recall_score, f1_score\n",
    "\n",
    "# Assuming you have already split and preprocessed your data, including scaling the features (X_train_scaled and X_test_scaled)\n",
    "# and obtaining the target variables (y_train and y_test).\n",
    "\n",
    "# Train a Random Forest model\n",
    "rf = RandomForestClassifier(random_state=42)\n",
    "rf.fit(X_train_scaled, y_train)\n",
    "rf_predictions = rf.predict(X_test_scaled)\n",
    "\n",
    "# Calculate evaluation metrics for Random Forest model\n",
    "rf_accuracy = accuracy_score(y_test, rf_predictions)\n",
    "rf_precision = precision_score(y_test, rf_predictions, average='weighted')\n",
    "rf_recall = recall_score(y_test, rf_predictions, average='weighted')\n",
    "rf_f1 = f1_score(y_test, rf_predictions, average='weighted')\n",
    "\n",
    "print(\"Random Forest Results:\")\n",
    "print(f\"Accuracy: {rf_accuracy:.2f}\")\n",
    "print(f\"Precision: {rf_precision:.2f}\")\n",
    "print(f\"Recall: {rf_recall:.2f}\")\n",
    "print(f\"F1 Score: {rf_f1:.2f}\")\n"
   ]
  },
  {
   "cell_type": "code",
   "execution_count": 49,
   "id": "e8f46bc5",
   "metadata": {},
   "outputs": [
    {
     "name": "stdout",
     "output_type": "stream",
     "text": [
      "XGBoost Accuracy: 0.9406609607273025\n",
      "Confusion Matrix:\n",
      "[[     0      0      0    159      2]\n",
      " [     2      9      0   2436     78]\n",
      " [     0      0 126242      0      0]\n",
      " [     1     17      0  11177    343]\n",
      " [     1      9      0   5646    392]]\n",
      "Classification Report:\n",
      "              precision    recall  f1-score   support\n",
      "\n",
      "           0       0.00      0.00      0.00       161\n",
      "           1       0.26      0.00      0.01      2525\n",
      "           2       1.00      1.00      1.00    126242\n",
      "           3       0.58      0.97      0.72     11538\n",
      "           4       0.48      0.06      0.11      6048\n",
      "\n",
      "    accuracy                           0.94    146514\n",
      "   macro avg       0.46      0.41      0.37    146514\n",
      "weighted avg       0.93      0.94      0.92    146514\n",
      "\n"
     ]
    }
   ],
   "source": [
    "from xgboost import XGBClassifier\n",
    "from sklearn.metrics import accuracy_score, confusion_matrix, classification_report\n",
    "\n",
    "# Create an XGBoost classifier\n",
    "xgb_classifier = XGBClassifier()\n",
    "\n",
    "# Fit the classifier to the training data\n",
    "xgb_classifier.fit(X_train_scaled, y_train_numeric)  # Assuming X_train_scaled and y_train_numeric\n",
    "\n",
    "# Make predictions on the test data\n",
    "xgb_predictions = xgb_classifier.predict(X_test_scaled)  # Assuming X_test_scaled\n",
    "\n",
    "# Calculate accuracy\n",
    "xgb_accuracy = accuracy_score(y_test_numeric, xgb_predictions)  # Assuming y_test_numeric\n",
    "\n",
    "# Print the accuracy\n",
    "print(\"XGBoost Accuracy:\", xgb_accuracy)\n",
    "\n",
    "# Print the confusion matrix\n",
    "print(\"Confusion Matrix:\")\n",
    "print(confusion_matrix(y_test_numeric, xgb_predictions))  # Assuming y_test_numeric\n",
    "\n",
    "# Print the classification report\n",
    "print(\"Classification Report:\")\n",
    "print(classification_report(y_test_numeric, xgb_predictions))  # Assuming y_test_numeric\n"
   ]
  },
  {
   "cell_type": "markdown",
   "id": "54a3f07d",
   "metadata": {},
   "source": [
    "## Bayesian Optimization"
   ]
  },
  {
   "cell_type": "code",
   "execution_count": 51,
   "id": "7a9455e0",
   "metadata": {},
   "outputs": [
    {
     "name": "stderr",
     "output_type": "stream",
     "text": [
      "C:\\Users\\matth\\anaconda3\\lib\\site-packages\\xgboost\\sklearn.py:1395: UserWarning: `use_label_encoder` is deprecated in 1.7.0.\n",
      "  warnings.warn(\"`use_label_encoder` is deprecated in 1.7.0.\")\n"
     ]
    },
    {
     "name": "stdout",
     "output_type": "stream",
     "text": [
      "[17:02:01] WARNING: C:\\buildkite-agent\\builds\\buildkite-windows-cpu-autoscaling-group-i-0fdc6d574b9c0d168-1\\xgboost\\xgboost-ci-windows\\src\\learner.cc:767: \n",
      "Parameters: { \"scale_pos_weight\" } are not used.\n",
      "\n"
     ]
    },
    {
     "name": "stderr",
     "output_type": "stream",
     "text": [
      "C:\\Users\\matth\\anaconda3\\lib\\site-packages\\sklearn\\utils\\deprecation.py:87: FutureWarning: Function plot_confusion_matrix is deprecated; Function `plot_confusion_matrix` is deprecated in 1.0 and will be removed in 1.2. Use one of the class methods: ConfusionMatrixDisplay.from_predictions or ConfusionMatrixDisplay.from_estimator.\n",
      "  warnings.warn(msg, category=FutureWarning)\n",
      "C:\\Users\\matth\\anaconda3\\lib\\site-packages\\sklearn\\utils\\deprecation.py:87: FutureWarning: Function plot_confusion_matrix is deprecated; Function `plot_confusion_matrix` is deprecated in 1.0 and will be removed in 1.2. Use one of the class methods: ConfusionMatrixDisplay.from_predictions or ConfusionMatrixDisplay.from_estimator.\n",
      "  warnings.warn(msg, category=FutureWarning)\n"
     ]
    },
    {
     "name": "stdout",
     "output_type": "stream",
     "text": [
      "              precision    recall  f1-score   support\n",
      "\n",
      "           0       0.00      0.00      0.00       161\n",
      "           1       0.17      0.03      0.06      2525\n",
      "           2       1.00      1.00      1.00    126242\n",
      "           3       0.58      0.81      0.68     11538\n",
      "           4       0.36      0.21      0.27      6048\n",
      "\n",
      "    accuracy                           0.93    146514\n",
      "   macro avg       0.42      0.41      0.40    146514\n",
      "weighted avg       0.93      0.93      0.93    146514\n",
      "\n"
     ]
    },
    {
     "data": {
      "image/png": "[encoded data removed]",
      "text/plain": [
       "<Figure size 432x288 with 2 Axes>"
      ]
     },
     "metadata": {
      "needs_background": "light"
     },
     "output_type": "display_data"
    },
    {
     "data": {
      "image/png": "[encoded data removed]",
      "text/plain": [
       "<Figure size 432x288 with 2 Axes>"
      ]
     },
     "metadata": {
      "needs_background": "light"
     },
     "output_type": "display_data"
    }
   ],
   "source": [
    "from xgboost import XGBClassifier\n",
    "from sklearn.metrics import classification_report, plot_confusion_matrix\n",
    "\n",
    "# Define the hyperparameters based on the provided values\n",
    "params = {\n",
    "    'colsample_bytree': 0.5802155452308511,\n",
    "    'gamma': 0.29764960799687223,\n",
    "    'learning_rate': 0.47464750071745865,\n",
    "    'max_depth': 11,\n",
    "    'min_child_weight': 5.565853600455331,\n",
    "    'n_estimators': 308,\n",
    "}\n",
    "\n",
    "# Create an XGBoost classifier with the specified hyperparameters\n",
    "xgb_opt1 = XGBClassifier(**params, use_label_encoder=False).fit(X_train_scaled, y_train_numeric)  # Assuming X_train_scaled and y_train_numeric\n",
    "\n",
    "# Plot confusion matrix for training data\n",
    "plot_confusion_matrix(xgb_opt1, X_train_scaled, y_train_numeric, normalize='all')\n",
    "\n",
    "# Plot confusion matrix for testing data\n",
    "plot_confusion_matrix(xgb_opt1, X_test_scaled, y_test_numeric, normalize='all')\n",
    "\n",
    "# Make predictions on the test data\n",
    "y_pred = xgb_opt1.predict(X_test_scaled)  # Assuming X_test_scaled\n",
    "\n",
    "# Print classification report\n",
    "print(classification_report(y_test_numeric, y_pred))  # Assuming y_test_numeric\n"
   ]
  },
  {
   "cell_type": "code",
   "execution_count": null,
   "id": "3d719117",
   "metadata": {},
   "outputs": [],
   "source": []
  },
  {
   "cell_type": "code",
   "execution_count": 53,
   "id": "70503659",
   "metadata": {},
   "outputs": [
    {
     "data": {
      "image/png": "[encoded data removed]",
      "text/plain": [
       "<Figure size 720x432 with 1 Axes>"
      ]
     },
     "metadata": {
      "needs_background": "light"
     },
     "output_type": "display_data"
    }
   ],
   "source": [
    "import matplotlib.pyplot as plt\n",
    "import numpy as np\n",
    "\n",
    "# Get feature importances from the trained XGBoost classifier\n",
    "feature_importances = xgb_opt1.feature_importances_\n",
    "\n",
    "# Get the names of the features\n",
    "feature_names = np.array(feature_names)\n",
    "\n",
    "# Sort feature importances in descending order\n",
    "sorted_idx = np.argsort(feature_importances)[::-1]\n",
    "\n",
    "# Plot the feature importances\n",
    "plt.figure(figsize=(10, 6))\n",
    "plt.bar(range(len(feature_importances)), feature_importances[sorted_idx])\n",
    "plt.xticks(range(len(feature_importances)), feature_names[sorted_idx], rotation=90)\n",
    "plt.xlabel(\"Features\")\n",
    "plt.ylabel(\"Feature Importance\")\n",
    "plt.title(\"Feature Importance from XGBoost Classifier\")\n",
    "plt.tight_layout()\n",
    "plt.show()\n"
   ]
  },
  {
   "cell_type": "code",
   "execution_count": null,
   "id": "4501a3c3",
   "metadata": {},
   "outputs": [],
   "source": []
  },
  {
   "cell_type": "code",
   "execution_count": null,
   "id": "b2f9afa0",
   "metadata": {},
   "outputs": [],
   "source": []
  },
  {
   "cell_type": "code",
   "execution_count": null,
   "id": "a6b74f4c",
   "metadata": {},
   "outputs": [],
   "source": []
  },
  {
   "cell_type": "code",
   "execution_count": null,
   "id": "90949134",
   "metadata": {},
   "outputs": [],
   "source": []
  },
  {
   "cell_type": "markdown",
   "id": "8d6451a2",
   "metadata": {},
   "source": [
    "# Hyperparameter Tuning"
   ]
  },
  {
   "cell_type": "markdown",
   "id": "6cb5c625",
   "metadata": {},
   "source": [
    "## Grid Search"
   ]
  },
  {
   "cell_type": "code",
   "execution_count": 25,
   "id": "76331688",
   "metadata": {
    "scrolled": true
   },
   "outputs": [
    {
     "name": "stderr",
     "output_type": "stream",
     "text": [
      "C:\\Users\\matth\\anaconda3\\lib\\site-packages\\sklearn\\linear_model\\_sag.py:352: ConvergenceWarning: The max_iter was reached which means the coef_ did not converge\n",
      "  warnings.warn(\n",
      "C:\\Users\\matth\\anaconda3\\lib\\site-packages\\sklearn\\linear_model\\_sag.py:352: ConvergenceWarning: The max_iter was reached which means the coef_ did not converge\n",
      "  warnings.warn(\n",
      "C:\\Users\\matth\\anaconda3\\lib\\site-packages\\sklearn\\linear_model\\_sag.py:352: ConvergenceWarning: The max_iter was reached which means the coef_ did not converge\n",
      "  warnings.warn(\n",
      "C:\\Users\\matth\\anaconda3\\lib\\site-packages\\sklearn\\linear_model\\_sag.py:352: ConvergenceWarning: The max_iter was reached which means the coef_ did not converge\n",
      "  warnings.warn(\n",
      "C:\\Users\\matth\\anaconda3\\lib\\site-packages\\sklearn\\linear_model\\_sag.py:352: ConvergenceWarning: The max_iter was reached which means the coef_ did not converge\n",
      "  warnings.warn(\n",
      "C:\\Users\\matth\\anaconda3\\lib\\site-packages\\sklearn\\linear_model\\_sag.py:352: ConvergenceWarning: The max_iter was reached which means the coef_ did not converge\n",
      "  warnings.warn(\n",
      "C:\\Users\\matth\\anaconda3\\lib\\site-packages\\sklearn\\linear_model\\_sag.py:352: ConvergenceWarning: The max_iter was reached which means the coef_ did not converge\n",
      "  warnings.warn(\n",
      "C:\\Users\\matth\\anaconda3\\lib\\site-packages\\sklearn\\linear_model\\_sag.py:352: ConvergenceWarning: The max_iter was reached which means the coef_ did not converge\n",
      "  warnings.warn(\n",
      "C:\\Users\\matth\\anaconda3\\lib\\site-packages\\sklearn\\linear_model\\_sag.py:352: ConvergenceWarning: The max_iter was reached which means the coef_ did not converge\n",
      "  warnings.warn(\n",
      "C:\\Users\\matth\\anaconda3\\lib\\site-packages\\sklearn\\linear_model\\_sag.py:352: ConvergenceWarning: The max_iter was reached which means the coef_ did not converge\n",
      "  warnings.warn(\n",
      "C:\\Users\\matth\\anaconda3\\lib\\site-packages\\sklearn\\linear_model\\_sag.py:352: ConvergenceWarning: The max_iter was reached which means the coef_ did not converge\n",
      "  warnings.warn(\n",
      "C:\\Users\\matth\\anaconda3\\lib\\site-packages\\sklearn\\linear_model\\_sag.py:352: ConvergenceWarning: The max_iter was reached which means the coef_ did not converge\n",
      "  warnings.warn(\n",
      "C:\\Users\\matth\\anaconda3\\lib\\site-packages\\sklearn\\linear_model\\_sag.py:352: ConvergenceWarning: The max_iter was reached which means the coef_ did not converge\n",
      "  warnings.warn(\n",
      "C:\\Users\\matth\\anaconda3\\lib\\site-packages\\sklearn\\linear_model\\_sag.py:352: ConvergenceWarning: The max_iter was reached which means the coef_ did not converge\n",
      "  warnings.warn(\n",
      "C:\\Users\\matth\\anaconda3\\lib\\site-packages\\sklearn\\linear_model\\_sag.py:352: ConvergenceWarning: The max_iter was reached which means the coef_ did not converge\n",
      "  warnings.warn(\n",
      "C:\\Users\\matth\\anaconda3\\lib\\site-packages\\sklearn\\linear_model\\_sag.py:352: ConvergenceWarning: The max_iter was reached which means the coef_ did not converge\n",
      "  warnings.warn(\n",
      "C:\\Users\\matth\\anaconda3\\lib\\site-packages\\sklearn\\linear_model\\_sag.py:352: ConvergenceWarning: The max_iter was reached which means the coef_ did not converge\n",
      "  warnings.warn(\n",
      "C:\\Users\\matth\\anaconda3\\lib\\site-packages\\sklearn\\linear_model\\_sag.py:352: ConvergenceWarning: The max_iter was reached which means the coef_ did not converge\n",
      "  warnings.warn(\n",
      "C:\\Users\\matth\\anaconda3\\lib\\site-packages\\sklearn\\linear_model\\_sag.py:352: ConvergenceWarning: The max_iter was reached which means the coef_ did not converge\n",
      "  warnings.warn(\n",
      "C:\\Users\\matth\\anaconda3\\lib\\site-packages\\sklearn\\linear_model\\_sag.py:352: ConvergenceWarning: The max_iter was reached which means the coef_ did not converge\n",
      "  warnings.warn(\n",
      "C:\\Users\\matth\\anaconda3\\lib\\site-packages\\sklearn\\linear_model\\_sag.py:352: ConvergenceWarning: The max_iter was reached which means the coef_ did not converge\n",
      "  warnings.warn(\n",
      "C:\\Users\\matth\\anaconda3\\lib\\site-packages\\sklearn\\linear_model\\_sag.py:352: ConvergenceWarning: The max_iter was reached which means the coef_ did not converge\n",
      "  warnings.warn(\n",
      "C:\\Users\\matth\\anaconda3\\lib\\site-packages\\sklearn\\linear_model\\_sag.py:352: ConvergenceWarning: The max_iter was reached which means the coef_ did not converge\n",
      "  warnings.warn(\n",
      "C:\\Users\\matth\\anaconda3\\lib\\site-packages\\sklearn\\linear_model\\_sag.py:352: ConvergenceWarning: The max_iter was reached which means the coef_ did not converge\n",
      "  warnings.warn(\n",
      "C:\\Users\\matth\\anaconda3\\lib\\site-packages\\sklearn\\linear_model\\_sag.py:352: ConvergenceWarning: The max_iter was reached which means the coef_ did not converge\n",
      "  warnings.warn(\n",
      "C:\\Users\\matth\\anaconda3\\lib\\site-packages\\sklearn\\linear_model\\_sag.py:352: ConvergenceWarning: The max_iter was reached which means the coef_ did not converge\n",
      "  warnings.warn(\n",
      "C:\\Users\\matth\\anaconda3\\lib\\site-packages\\sklearn\\linear_model\\_sag.py:352: ConvergenceWarning: The max_iter was reached which means the coef_ did not converge\n",
      "  warnings.warn(\n",
      "C:\\Users\\matth\\anaconda3\\lib\\site-packages\\sklearn\\linear_model\\_sag.py:352: ConvergenceWarning: The max_iter was reached which means the coef_ did not converge\n",
      "  warnings.warn(\n",
      "C:\\Users\\matth\\anaconda3\\lib\\site-packages\\sklearn\\linear_model\\_sag.py:352: ConvergenceWarning: The max_iter was reached which means the coef_ did not converge\n",
      "  warnings.warn(\n",
      "C:\\Users\\matth\\anaconda3\\lib\\site-packages\\sklearn\\linear_model\\_sag.py:352: ConvergenceWarning: The max_iter was reached which means the coef_ did not converge\n",
      "  warnings.warn(\n",
      "C:\\Users\\matth\\anaconda3\\lib\\site-packages\\sklearn\\linear_model\\_sag.py:352: ConvergenceWarning: The max_iter was reached which means the coef_ did not converge\n",
      "  warnings.warn(\n",
      "C:\\Users\\matth\\anaconda3\\lib\\site-packages\\sklearn\\linear_model\\_sag.py:352: ConvergenceWarning: The max_iter was reached which means the coef_ did not converge\n",
      "  warnings.warn(\n",
      "C:\\Users\\matth\\anaconda3\\lib\\site-packages\\sklearn\\linear_model\\_sag.py:352: ConvergenceWarning: The max_iter was reached which means the coef_ did not converge\n",
      "  warnings.warn(\n",
      "C:\\Users\\matth\\anaconda3\\lib\\site-packages\\sklearn\\linear_model\\_sag.py:352: ConvergenceWarning: The max_iter was reached which means the coef_ did not converge\n",
      "  warnings.warn(\n",
      "C:\\Users\\matth\\anaconda3\\lib\\site-packages\\sklearn\\linear_model\\_sag.py:352: ConvergenceWarning: The max_iter was reached which means the coef_ did not converge\n",
      "  warnings.warn(\n",
      "C:\\Users\\matth\\anaconda3\\lib\\site-packages\\sklearn\\linear_model\\_sag.py:352: ConvergenceWarning: The max_iter was reached which means the coef_ did not converge\n",
      "  warnings.warn(\n",
      "C:\\Users\\matth\\anaconda3\\lib\\site-packages\\sklearn\\linear_model\\_sag.py:352: ConvergenceWarning: The max_iter was reached which means the coef_ did not converge\n",
      "  warnings.warn(\n",
      "C:\\Users\\matth\\anaconda3\\lib\\site-packages\\sklearn\\linear_model\\_sag.py:352: ConvergenceWarning: The max_iter was reached which means the coef_ did not converge\n",
      "  warnings.warn(\n",
      "C:\\Users\\matth\\anaconda3\\lib\\site-packages\\sklearn\\linear_model\\_sag.py:352: ConvergenceWarning: The max_iter was reached which means the coef_ did not converge\n",
      "  warnings.warn(\n",
      "C:\\Users\\matth\\anaconda3\\lib\\site-packages\\sklearn\\linear_model\\_sag.py:352: ConvergenceWarning: The max_iter was reached which means the coef_ did not converge\n",
      "  warnings.warn(\n",
      "C:\\Users\\matth\\anaconda3\\lib\\site-packages\\sklearn\\linear_model\\_sag.py:352: ConvergenceWarning: The max_iter was reached which means the coef_ did not converge\n",
      "  warnings.warn(\n",
      "C:\\Users\\matth\\anaconda3\\lib\\site-packages\\sklearn\\linear_model\\_sag.py:352: ConvergenceWarning: The max_iter was reached which means the coef_ did not converge\n",
      "  warnings.warn(\n",
      "C:\\Users\\matth\\anaconda3\\lib\\site-packages\\sklearn\\linear_model\\_sag.py:352: ConvergenceWarning: The max_iter was reached which means the coef_ did not converge\n",
      "  warnings.warn(\n",
      "C:\\Users\\matth\\anaconda3\\lib\\site-packages\\sklearn\\linear_model\\_sag.py:352: ConvergenceWarning: The max_iter was reached which means the coef_ did not converge\n",
      "  warnings.warn(\n",
      "C:\\Users\\matth\\anaconda3\\lib\\site-packages\\sklearn\\linear_model\\_sag.py:352: ConvergenceWarning: The max_iter was reached which means the coef_ did not converge\n",
      "  warnings.warn(\n",
      "C:\\Users\\matth\\anaconda3\\lib\\site-packages\\sklearn\\linear_model\\_sag.py:352: ConvergenceWarning: The max_iter was reached which means the coef_ did not converge\n",
      "  warnings.warn(\n",
      "C:\\Users\\matth\\anaconda3\\lib\\site-packages\\sklearn\\linear_model\\_sag.py:352: ConvergenceWarning: The max_iter was reached which means the coef_ did not converge\n",
      "  warnings.warn(\n"
     ]
    },
    {
     "name": "stderr",
     "output_type": "stream",
     "text": [
      "C:\\Users\\matth\\anaconda3\\lib\\site-packages\\sklearn\\linear_model\\_sag.py:352: ConvergenceWarning: The max_iter was reached which means the coef_ did not converge\n",
      "  warnings.warn(\n",
      "C:\\Users\\matth\\anaconda3\\lib\\site-packages\\sklearn\\linear_model\\_sag.py:352: ConvergenceWarning: The max_iter was reached which means the coef_ did not converge\n",
      "  warnings.warn(\n",
      "C:\\Users\\matth\\anaconda3\\lib\\site-packages\\sklearn\\linear_model\\_sag.py:352: ConvergenceWarning: The max_iter was reached which means the coef_ did not converge\n",
      "  warnings.warn(\n"
     ]
    },
    {
     "name": "stdout",
     "output_type": "stream",
     "text": [
      "Best Hyperparameters for Logistic Regression: {'C': 0.01, 'penalty': 'l1', 'solver': 'liblinear'}\n",
      "Best Accuracy Score for Logistic Regression: 0.9410072433474674\n"
     ]
    }
   ],
   "source": [
    "from sklearn.linear_model import LogisticRegression\n",
    "from sklearn.model_selection import GridSearchCV\n",
    "\n",
    "# Create a Logistic Regression model\n",
    "lr = LogisticRegression(random_state=42)\n",
    "\n",
    "# Define the hyperparameter grid to search\n",
    "param_grid_lr = {\n",
    "    'C': [0.01, 0.1, 1, 10, 100],\n",
    "    'penalty': ['l1', 'l2'],\n",
    "    'solver': ['liblinear', 'saga']\n",
    "}\n",
    "\n",
    "# Perform GridSearchCV\n",
    "grid_search_lr = GridSearchCV(lr, param_grid_lr, cv=5, scoring='accuracy')\n",
    "grid_search_lr.fit(X_train_scaled, y_train)\n",
    "\n",
    "# Print the best hyperparameters and the corresponding accuracy score\n",
    "print(\"Best Hyperparameters for Logistic Regression:\", grid_search_lr.best_params_)\n",
    "print(\"Best Accuracy Score for Logistic Regression:\", grid_search_lr.best_score_)\n"
   ]
  },
  {
   "cell_type": "code",
   "execution_count": null,
   "id": "ecb931f4",
   "metadata": {},
   "outputs": [],
   "source": [
    "from sklearn.tree import DecisionTreeClassifier\n",
    "from sklearn.model_selection import GridSearchCV\n",
    "\n",
    "# Create a Decision Tree model\n",
    "dt = DecisionTreeClassifier(random_state=42)\n",
    "\n",
    "# Define the hyperparameter grid to search\n",
    "param_grid_dt = {\n",
    "    'criterion': ['gini', 'entropy'],\n",
    "    'splitter': ['best', 'random'],\n",
    "    'max_depth': [None, 10, 20, 30, 40],\n",
    "    'min_samples_split': [2, 5, 10],\n",
    "    'min_samples_leaf': [1, 2, 4]\n",
    "}\n",
    "\n",
    "# Perform GridSearchCV\n",
    "grid_search_dt = GridSearchCV(dt, param_grid_dt, cv=5, scoring='accuracy')\n",
    "grid_search_dt.fit(X_train_scaled, y_train)\n",
    "\n",
    "# Print the best hyperparameters and the corresponding accuracy score\n",
    "print(\"Best Hyperparameters for Decision Tree:\", grid_search_dt.best_params_)\n",
    "print(\"Best Accuracy Score for Decision Tree:\", grid_search_dt.best_score_)\n"
   ]
  },
  {
   "cell_type": "code",
   "execution_count": null,
   "id": "b6f18438",
   "metadata": {},
   "outputs": [],
   "source": [
    "from sklearn.ensemble import RandomForestClassifier\n",
    "from sklearn.model_selection import GridSearchCV\n",
    "\n",
    "# Create a Random Forest model\n",
    "rf = RandomForestClassifier(random_state=42)\n",
    "\n",
    "# Define the hyperparameter grid to search\n",
    "param_grid_rf = {\n",
    "    'n_estimators': [50, 100, 200],\n",
    "    'criterion': ['gini', 'entropy'],\n",
    "    'max_depth': [None, 10, 20, 30, 40],\n",
    "    'min_samples_split': [2, 5, 10],\n",
    "    'min_samples_leaf': [1, 2, 4]\n",
    "}\n",
    "\n",
    "# Perform GridSearchCV\n",
    "grid_search_rf = GridSearchCV(rf, param_grid_rf, cv=5, scoring='accuracy')\n",
    "grid_search_rf.fit(X_train_scaled, y_train)\n",
    "\n",
    "# Print the best hyperparameters and the corresponding accuracy score\n",
    "print(\"Best Hyperparameters for Random Forest:\", grid_search_rf.best_params_)\n",
    "print(\"Best Accuracy Score for Random Forest:\", grid_search_rf.best_score_)\n"
   ]
  },
  {
   "cell_type": "markdown",
   "id": "b9bdf744",
   "metadata": {},
   "source": [
    "## Random Search"
   ]
  },
  {
   "cell_type": "code",
   "execution_count": null,
   "id": "659f4285",
   "metadata": {},
   "outputs": [],
   "source": [
    "from sklearn.linear_model import LogisticRegression\n",
    "from sklearn.model_selection import RandomizedSearchCV\n",
    "from scipy.stats import uniform\n",
    "\n",
    "# Define the hyperparameter search space for LR\n",
    "param_dist_lr = {\n",
    "    'C': uniform(0.01, 10),  # Regularization parameter C\n",
    "    'penalty': ['l1', 'l2'],  # Regularization type (L1 or L2)\n",
    "    'solver': ['liblinear', 'saga'],  # Solver for optimization\n",
    "    'max_iter': [100, 200, 300]  # Maximum number of iterations\n",
    "}\n",
    "\n",
    "# Initialize the LR model\n",
    "lr = LogisticRegression(random_state=42)\n",
    "\n",
    "# Initialize Randomized Search with cross-validation\n",
    "random_search_lr = RandomizedSearchCV(lr, param_distributions=param_dist_lr, n_iter=10, cv=5, random_state=42)\n",
    "\n",
    "# Fit the Randomized Search on your data\n",
    "random_search_lr.fit(X_train_scaled, y_train)\n",
    "\n",
    "# Get the best hyperparameters and the best model\n",
    "best_params_lr = random_search_lr.best_params_\n",
    "best_model_lr = random_search_lr.best_estimator_\n"
   ]
  },
  {
   "cell_type": "code",
   "execution_count": null,
   "id": "7f3dab66",
   "metadata": {},
   "outputs": [],
   "source": [
    "from sklearn.tree import DecisionTreeClassifier\n",
    "from sklearn.model_selection import RandomizedSearchCV\n",
    "from scipy.stats import randint\n",
    "\n",
    "# Define the hyperparameter search space for DT\n",
    "param_dist_dt = {\n",
    "    'max_depth': [None, 10, 20, 30, 40],  # Maximum depth of the tree\n",
    "    'min_samples_split': randint(2, 20),  # Minimum samples required to split an internal node\n",
    "    'min_samples_leaf': randint(1, 20),  # Minimum samples required to be at a leaf node\n",
    "    'max_features': ['auto', 'sqrt', 'log2']  # Number of features to consider at each split\n",
    "}\n",
    "\n",
    "# Initialize the DT model\n",
    "dt = DecisionTreeClassifier(random_state=42)\n",
    "\n",
    "# Initialize Randomized Search with cross-validation\n",
    "random_search_dt = RandomizedSearchCV(dt, param_distributions=param_dist_dt, n_iter=10, cv=5, random_state=42)\n",
    "\n",
    "# Fit the Randomized Search on your data\n",
    "random_search_dt.fit(X_train_scaled, y_train)\n",
    "\n",
    "# Get the best hyperparameters and the best model\n",
    "best_params_dt = random_search_dt.best_params_\n",
    "best_model_dt = random_search_dt.best_estimator_\n"
   ]
  },
  {
   "cell_type": "code",
   "execution_count": null,
   "id": "9687be23",
   "metadata": {},
   "outputs": [],
   "source": [
    "from sklearn.ensemble import RandomForestClassifier\n",
    "from sklearn.model_selection import RandomizedSearchCV\n",
    "from scipy.stats import randint\n",
    "\n",
    "# Define the hyperparameter search space for RF\n",
    "param_dist_rf = {\n",
    "    'n_estimators': randint(100, 1000),  # Number of trees in the forest\n",
    "    'max_depth': [None, 10, 20, 30, 40],  # Maximum depth of the tree\n",
    "    'min_samples_split': randint(2, 20),  # Minimum samples required to split an internal node\n",
    "    'min_samples_leaf': randint(1, 20),  # Minimum samples required to be at a leaf node\n",
    "    'max_features': ['auto', 'sqrt', 'log2']  # Number of features to consider at each split\n",
    "}\n",
    "\n",
    "# Initialize the RF model\n",
    "rf = RandomForestClassifier(random_state=42)\n",
    "\n",
    "# Initialize Randomized Search with cross-validation\n",
    "random_search_rf = RandomizedSearchCV(rf, param_distributions=param_dist_rf, n_iter=10, cv=5, random_state=42)\n",
    "\n",
    "# Fit the Randomized Search on your data\n",
    "random_search_rf.fit(X_train_scaled, y_train)\n",
    "\n",
    "# Get the best hyperparameters and the best model\n",
    "best_params_rf = random_search_rf.best_params_\n",
    "best_model_rf = random_search_rf.best_estimator_\n"
   ]
  },
  {
   "cell_type": "markdown",
   "id": "2f78f092",
   "metadata": {},
   "source": [
    "# Feature Importance for the best model"
   ]
  },
  {
   "cell_type": "code",
   "execution_count": null,
   "id": "14b9a1a4",
   "metadata": {},
   "outputs": [],
   "source": []
  },
  {
   "cell_type": "markdown",
   "id": "00804413",
   "metadata": {},
   "source": [
    "# Feature Selection"
   ]
  },
  {
   "cell_type": "code",
   "execution_count": null,
   "id": "be93fbf0",
   "metadata": {},
   "outputs": [],
   "source": []
  },
  {
   "cell_type": "markdown",
   "id": "88cb4b34",
   "metadata": {},
   "source": [
    "# Saving the model"
   ]
  },
  {
   "cell_type": "code",
   "execution_count": null,
   "id": "cb2f20e3",
   "metadata": {},
   "outputs": [],
   "source": [
    "import pickle\n",
    "\n",
    "# Save the model to disk\n",
    "filename = 'best_model.pkl'\n",
    "pickle.dump(lr, open(filename, 'wb'))"
   ]
  },
  {
   "cell_type": "markdown",
   "id": "25a411f6",
   "metadata": {},
   "source": [
    "# Model Evaluation"
   ]
  },
  {
   "cell_type": "code",
   "execution_count": null,
   "id": "9fe043fa",
   "metadata": {},
   "outputs": [],
   "source": []
  },
  {
   "cell_type": "markdown",
   "id": "a47ddb09",
   "metadata": {},
   "source": [
    "# Insights"
   ]
  },
  {
   "cell_type": "code",
   "execution_count": null,
   "id": "95418b8e",
   "metadata": {},
   "outputs": [],
   "source": []
  }
 ],
 "metadata": {
  "kernelspec": {
   "display_name": "Python 3 (ipykernel)",
   "language": "python",
   "name": "python3"
  },
  "language_info": {
   "codemirror_mode": {
    "name": "ipython",
    "version": 3
   },
   "file_extension": ".py",
   "mimetype": "text/x-python",
   "name": "python",
   "nbconvert_exporter": "python",
   "pygments_lexer": "ipython3",
   "version": "3.9.12"
  }
 },
 "nbformat": 4,
 "nbformat_minor": 5
}
