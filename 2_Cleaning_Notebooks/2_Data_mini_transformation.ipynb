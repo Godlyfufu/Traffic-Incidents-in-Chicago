{
 "cells": [
  {
   "cell_type": "code",
   "execution_count": 1,
   "id": "224961f2",
   "metadata": {},
   "outputs": [],
   "source": [
    "import pandas as pd"
   ]
  },
  {
   "cell_type": "code",
   "execution_count": 2,
   "id": "6343f793",
   "metadata": {},
   "outputs": [
    {
     "name": "stderr",
     "output_type": "stream",
     "text": [
      "C:\\Users\\matth\\AppData\\Local\\Temp\\ipykernel_10012\\1348599093.py:2: DtypeWarning: Columns (27,43) have mixed types. Specify dtype option on import or set low_memory=False.\n",
      "  df = pd.read_csv(r\"C:\\Users\\matth\\0_BDMP\\Datasets\\2_Merged_Datasets\\1_crash_merged.csv\")\n"
     ]
    },
    {
     "data": {
      "text/plain": [
       "(3400440, 71)"
      ]
     },
     "execution_count": 2,
     "metadata": {},
     "output_type": "execute_result"
    }
   ],
   "source": [
    "# Load the final dataset\n",
    "df = pd.read_csv(r\"C:\\Users\\matth\\0_BDMP\\Datasets\\2_Merged_Datasets\\1_crash_merged.csv\")\n",
    "df.shape"
   ]
  },
  {
   "cell_type": "code",
   "execution_count": 3,
   "id": "22efd09c",
   "metadata": {},
   "outputs": [
    {
     "name": "stdout",
     "output_type": "stream",
     "text": [
      "                   CRASH_DATE_x  CRASH_DATE  CRASH_MONTH  CRASH_YEAR  \\\n",
      "0        03/25/2019 02:43:00 PM  2019-03-25            3        2019   \n",
      "1        03/25/2019 02:43:00 PM  2019-03-25            3        2019   \n",
      "2        03/25/2019 02:43:00 PM  2019-03-25            3        2019   \n",
      "3        03/25/2019 02:43:00 PM  2019-03-25            3        2019   \n",
      "4        03/25/2019 02:43:00 PM  2019-03-25            3        2019   \n",
      "...                         ...         ...          ...         ...   \n",
      "3400435  07/01/2023 04:10:00 AM  2023-07-01            7        2023   \n",
      "3400436  07/01/2023 04:10:00 AM  2023-07-01            7        2023   \n",
      "3400437  06/24/2023 07:50:00 AM  2023-06-24            6        2023   \n",
      "3400438  06/24/2023 07:50:00 AM  2023-06-24            6        2023   \n",
      "3400439  06/24/2023 07:50:00 AM  2023-06-24            6        2023   \n",
      "\n",
      "        CRASH_TIME  CRASH_HOUR  \n",
      "0         14:43:00          14  \n",
      "1         14:43:00          14  \n",
      "2         14:43:00          14  \n",
      "3         14:43:00          14  \n",
      "4         14:43:00          14  \n",
      "...            ...         ...  \n",
      "3400435   04:10:00           4  \n",
      "3400436   04:10:00           4  \n",
      "3400437   07:50:00           7  \n",
      "3400438   07:50:00           7  \n",
      "3400439   07:50:00           7  \n",
      "\n",
      "[3400440 rows x 6 columns]\n"
     ]
    }
   ],
   "source": [
    "import pandas as pd\n",
    "\n",
    "# Assuming your dataset is stored in a DataFrame called \"df\"\n",
    "# Create new columns for crash date, crash month, crash year, crash time, and crash hour\n",
    "df['CRASH_DATE'] = pd.to_datetime(df['CRASH_DATE_x']).dt.date\n",
    "df['CRASH_MONTH'] = pd.to_datetime(df['CRASH_DATE_x']).dt.month\n",
    "df['CRASH_YEAR'] = pd.to_datetime(df['CRASH_DATE_x']).dt.year\n",
    "df['CRASH_TIME'] = pd.to_datetime(df['CRASH_DATE_x']).dt.time\n",
    "df['CRASH_HOUR'] = pd.to_datetime(df['CRASH_DATE_x']).dt.hour\n",
    "\n",
    "# Print the updated DataFrame\n",
    "print(df[['CRASH_DATE_x', 'CRASH_DATE', 'CRASH_MONTH', 'CRASH_YEAR', 'CRASH_TIME', 'CRASH_HOUR']])"
   ]
  },
  {
   "cell_type": "code",
   "execution_count": 4,
   "id": "2fe3941f",
   "metadata": {},
   "outputs": [],
   "source": [
    "df.to_csv(r\"C:\\Users\\matth\\0_BDMP\\Datasets\\3_Cleaned_Datasets\\finalised_partial_cleaned.csv\", index=False)"
   ]
  },
  {
   "cell_type": "code",
   "execution_count": null,
   "id": "e32dbea2",
   "metadata": {},
   "outputs": [],
   "source": []
  }
 ],
 "metadata": {
  "kernelspec": {
   "display_name": "Python 3 (ipykernel)",
   "language": "python",
   "name": "python3"
  },
  "language_info": {
   "codemirror_mode": {
    "name": "ipython",
    "version": 3
   },
   "file_extension": ".py",
   "mimetype": "text/x-python",
   "name": "python",
   "nbconvert_exporter": "python",
   "pygments_lexer": "ipython3",
   "version": "3.9.12"
  }
 },
 "nbformat": 4,
 "nbformat_minor": 5
}
